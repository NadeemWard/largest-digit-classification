{
  "nbformat": 4,
  "nbformat_minor": 0,
  "metadata": {
    "colab": {
      "name": "Prediction Ready Comp551_kaggle.ipynb",
      "version": "0.3.2",
      "views": {},
      "default_view": {},
      "provenance": [
        {
          "file_id": "1fhI84C_HtECxoeBA0isUApIBWD2TgTzs",
          "timestamp": 1521427318011
        },
        {
          "file_id": "1S9IBEQyEU0jXHN98MsMQnErvs0u3qna6",
          "timestamp": 1521302673218
        },
        {
          "file_id": "15kgGTyI8fywA0iDADlMuM6wCWMphb38C",
          "timestamp": 1521067308100
        }
      ],
      "collapsed_sections": [
        "junj_3naCSB3"
      ],
      "toc_visible": true
    },
    "kernelspec": {
      "name": "python3",
      "display_name": "Python 3"
    },
    "accelerator": "GPU"
  },
  "cells": [
    {
      "metadata": {
        "id": "Q7QG3A9lz7_I",
        "colab_type": "text"
      },
      "cell_type": "markdown",
      "source": [
        "# Imports and load data"
      ]
    },
    {
      "metadata": {
        "id": "763WEq9018Ya",
        "colab_type": "code",
        "colab": {
          "autoexec": {
            "startup": false,
            "wait_interval": 0
          },
          "output_extras": [
            {
              "item_id": 1
            }
          ],
          "base_uri": "https://localhost:8080/",
          "height": 34
        },
        "outputId": "eb8c2b60-a21c-4f8e-fd36-f25308e64ff4",
        "executionInfo": {
          "status": "ok",
          "timestamp": 1521687120660,
          "user_tz": 240,
          "elapsed": 2716,
          "user": {
            "displayName": "Daoud Piracha",
            "photoUrl": "https://lh3.googleusercontent.com/a/default-user=s128",
            "userId": "108185722932791441609"
          }
        }
      },
      "cell_type": "code",
      "source": [
        "import numpy as np\n",
        "import matplotlib.pyplot as plt\n",
        "import cv2\n",
        "\n",
        "import scipy.misc\n",
        "import pandas as pd\n",
        "import datetime\n",
        "\n",
        "from sklearn.model_selection import train_test_split\n",
        "from sklearn.svm import LinearSVC\n",
        "from sklearn.linear_model import LogisticRegression\n",
        "from keras.utils import np_utils\n",
        "from sklearn.metrics import accuracy_score\n",
        "from sklearn import svm\n",
        "\n",
        "import keras\n",
        "from keras.datasets import mnist\n",
        "from keras.models import Sequential\n",
        "from keras.layers.core import Dense, Dropout, Activation, Flatten\n",
        "from keras.layers.convolutional import Convolution2D, MaxPooling2D\n",
        "from keras.layers import Conv2D, MaxPooling2D\n",
        "from keras import backend as K\n",
        "from __future__ import print_function\n",
        "from keras.wrappers.scikit_learn import KerasClassifier\n",
        "from sklearn.model_selection import ShuffleSplit\n",
        "from sklearn.model_selection import cross_val_score\n",
        "from keras.optimizers import Adadelta, Adam"
      ],
      "execution_count": 1,
      "outputs": [
        {
          "output_type": "stream",
          "text": [
            "Using TensorFlow backend.\n"
          ],
          "name": "stderr"
        }
      ]
    },
    {
      "metadata": {
        "id": "qiQA3bIFG6OC",
        "colab_type": "text"
      },
      "cell_type": "markdown",
      "source": [
        "## Kaggle API"
      ]
    },
    {
      "metadata": {
        "id": "m4lilvZRHAHJ",
        "colab_type": "code",
        "colab": {
          "autoexec": {
            "startup": false,
            "wait_interval": 0
          },
          "output_extras": [
            {
              "item_id": 1
            }
          ],
          "base_uri": "https://localhost:8080/",
          "height": 102
        },
        "outputId": "8a2d5a08-8073-4124-82df-715f7f475642",
        "executionInfo": {
          "status": "ok",
          "timestamp": 1521687125957,
          "user_tz": 240,
          "elapsed": 2344,
          "user": {
            "displayName": "Daoud Piracha",
            "photoUrl": "https://lh3.googleusercontent.com/a/default-user=s128",
            "userId": "108185722932791441609"
          }
        }
      },
      "cell_type": "code",
      "source": [
        "!pip install kaggle"
      ],
      "execution_count": 2,
      "outputs": [
        {
          "output_type": "stream",
          "text": [
            "Requirement already satisfied: kaggle in /usr/local/lib/python3.6/dist-packages\r\n",
            "Requirement already satisfied: urllib3>=1.15 in /usr/local/lib/python3.6/dist-packages (from kaggle)\r\n",
            "Requirement already satisfied: six>=1.10 in /usr/local/lib/python3.6/dist-packages (from kaggle)\r\n",
            "Requirement already satisfied: python-dateutil in /usr/local/lib/python3.6/dist-packages (from kaggle)\r\n",
            "Requirement already satisfied: certifi in /usr/local/lib/python3.6/dist-packages (from kaggle)\r\n"
          ],
          "name": "stdout"
        }
      ]
    },
    {
      "metadata": {
        "id": "BL3HWpLCLtMF",
        "colab_type": "code",
        "colab": {
          "autoexec": {
            "startup": false,
            "wait_interval": 0
          },
          "output_extras": [
            {
              "item_id": 1
            }
          ],
          "base_uri": "https://localhost:8080/",
          "height": 34
        },
        "outputId": "448b02cf-4eb7-4e24-e068-82f6ef452752",
        "executionInfo": {
          "status": "ok",
          "timestamp": 1521687131245,
          "user_tz": 240,
          "elapsed": 4218,
          "user": {
            "displayName": "Daoud Piracha",
            "photoUrl": "https://lh3.googleusercontent.com/a/default-user=s128",
            "userId": "108185722932791441609"
          }
        }
      },
      "cell_type": "code",
      "source": [
        "from googleapiclient.discovery import build\n",
        "import io, os\n",
        "from googleapiclient.http import MediaIoBaseDownload\n",
        "from google.colab import auth\n",
        "\n",
        "auth.authenticate_user()\n",
        "\n",
        "drive_service = build('drive', 'v3')\n",
        "results = drive_service.files().list(\n",
        "        q=\"name = 'kaggle.json'\", fields=\"files(id)\").execute()\n",
        "kaggle_api_key = results.get('files', [])\n",
        "\n",
        "filename = \"/content/.kaggle/kaggle.json\"\n",
        "os.makedirs(os.path.dirname(filename), exist_ok=True)\n",
        "\n",
        "request = drive_service.files().get_media(fileId=kaggle_api_key[0]['id'])\n",
        "fh = io.FileIO(filename, 'wb')\n",
        "downloader = MediaIoBaseDownload(fh, request)\n",
        "done = False\n",
        "while done is False:\n",
        "    status, done = downloader.next_chunk()\n",
        "    print(\"Download %d%%.\" % int(status.progress() * 100))\n",
        "os.chmod(filename, 600)"
      ],
      "execution_count": 3,
      "outputs": [
        {
          "output_type": "stream",
          "text": [
            "Download 100%.\n"
          ],
          "name": "stdout"
        }
      ]
    },
    {
      "metadata": {
        "id": "vFUGcPFVbPvE",
        "colab_type": "text"
      },
      "cell_type": "markdown",
      "source": [
        "## **load data**"
      ]
    },
    {
      "metadata": {
        "id": "JCY1gZVtTqOi",
        "colab_type": "code",
        "colab": {
          "autoexec": {
            "startup": false,
            "wait_interval": 0
          },
          "output_extras": [
            {
              "item_id": 4
            }
          ],
          "base_uri": "https://localhost:8080/",
          "height": 85
        },
        "outputId": "65578dd3-1302-4e7c-83f4-7aeeb05fcbc6",
        "executionInfo": {
          "status": "ok",
          "timestamp": 1521687289265,
          "user_tz": 240,
          "elapsed": 157683,
          "user": {
            "displayName": "Daoud Piracha",
            "photoUrl": "https://lh3.googleusercontent.com/a/default-user=s128",
            "userId": "108185722932791441609"
          }
        }
      },
      "cell_type": "code",
      "source": [
        "!kaggle competitions download -c comp551w18-modified-mnist -p \"./\"\n",
        "!ls\n",
        "train_x = np.loadtxt(\"./train_x.csv\", delimiter=\",\")\n",
        "train_y = np.loadtxt(\"./train_y.csv\", delimiter=\",\")\n",
        "test_x = np.loadtxt(\"./test_x.csv\", delimiter=\",\")"
      ],
      "execution_count": 4,
      "outputs": [
        {
          "output_type": "stream",
          "text": [
            "train_y.csv: Skipping, found more recently modified local copy (use --force to force download)\n",
            "train_x.csv: Skipping, found more recently modified local copy (use --force to force download)\n",
            "test_x.csv: Skipping, found more recently modified local copy (use --force to force download)\n",
            "datalab  test_x.csv  train_x.csv  train_y.csv\n"
          ],
          "name": "stdout"
        }
      ]
    },
    {
      "metadata": {
        "id": "5QhNwELoSwTJ",
        "colab_type": "code",
        "colab": {
          "autoexec": {
            "startup": false,
            "wait_interval": 0
          }
        }
      },
      "cell_type": "code",
      "source": [
        "#storing a backup copy if we accidentally overwrite data, saves from reloading\n",
        "backup_train_x = np.copy(train_x)\n",
        "backup_train_y = np.copy(train_y)\n",
        "backup_test_x = np.copy(test_x)\n",
        " \n",
        "#restore backup\n",
        "def restore():\n",
        "  train_x = np.copy(backup_train_x)\n",
        "  train_y = np.copy(backup_train_y)\n",
        "  test_x = np.copy(backup_test_x)\n",
        "  return train_x, train_y, test_x"
      ],
      "execution_count": 0,
      "outputs": []
    },
    {
      "metadata": {
        "id": "w7qvfOkkRdbB",
        "colab_type": "code",
        "colab": {
          "autoexec": {
            "startup": false,
            "wait_interval": 0
          }
        }
      },
      "cell_type": "code",
      "source": [
        "train_x = train_x.reshape(-1, 64, 64) # reshape\n",
        "train_y = train_y.reshape(-1, 1)\n"
      ],
      "execution_count": 0,
      "outputs": []
    },
    {
      "metadata": {
        "id": "upkF3k0W4iiU",
        "colab_type": "text"
      },
      "cell_type": "markdown",
      "source": [
        "# Sample printed images"
      ]
    },
    {
      "metadata": {
        "id": "HQVtHu-fuhja",
        "colab_type": "code",
        "colab": {
          "autoexec": {
            "startup": false,
            "wait_interval": 0
          },
          "output_extras": [
            {
              "item_id": 1
            },
            {
              "item_id": 2
            }
          ],
          "base_uri": "https://localhost:8080/",
          "height": 367
        },
        "outputId": "744cf075-4207-4108-93f2-6b766dd4fbff",
        "executionInfo": {
          "status": "ok",
          "timestamp": 1521687340765,
          "user_tz": 240,
          "elapsed": 2619,
          "user": {
            "displayName": "Daoud Piracha",
            "photoUrl": "https://lh3.googleusercontent.com/a/default-user=s128",
            "userId": "108185722932791441609"
          }
        }
      },
      "cell_type": "code",
      "source": [
        "print(train_y[0],train_y[1],train_y[2],train_y[3],train_y[4])\n",
        "\n",
        "plt.subplot(221)\n",
        "plt.imshow(train_x[0],cmap='gray_r')\n",
        "plt.subplot(222)\n",
        "plt.imshow(train_x[1],cmap='gray_r')\n",
        "plt.subplot(223)\n",
        "plt.imshow(train_x[2],cmap='gray_r')\n",
        "plt.subplot(224)\n",
        "plt.imshow(train_x[3],cmap='gray_r')\n",
        "plt.show()"
      ],
      "execution_count": 7,
      "outputs": [
        {
          "output_type": "stream",
          "text": [
            "[4.] [7.] [1.] [0.] [8.]\n"
          ],
          "name": "stdout"
        },
        {
          "output_type": "display_data",
          "data": {
            "image/png": "[encoded data removed]",
            "text/plain": [
              "<matplotlib.figure.Figure at 0x7f309c0bb588>"
            ]
          },
          "metadata": {
            "tags": []
          }
        }
      ]
    },
    {
      "metadata": {
        "id": "TeV8409-SR0x",
        "colab_type": "text"
      },
      "cell_type": "markdown",
      "source": [
        "# Preprocessing\n"
      ]
    },
    {
      "metadata": {
        "id": "FTlSzhqMcEzv",
        "colab_type": "text"
      },
      "cell_type": "markdown",
      "source": [
        "## Black N White function"
      ]
    },
    {
      "metadata": {
        "id": "h2nvWyZtWZF7",
        "colab_type": "code",
        "colab": {
          "autoexec": {
            "startup": false,
            "wait_interval": 0
          }
        }
      },
      "cell_type": "code",
      "source": [
        "def img_blackNwhite(img,thresh=254,maxValue=255):\n",
        "  ''' function for turning original image into black and white image\n",
        "      using threshold\n",
        "  '''\n",
        "  # turn image to binary black and white\n",
        "  th, dst = cv2.threshold(img, thresh, maxValue, cv2.THRESH_BINARY);\n",
        "  \n",
        "  # convert numpy array to unsigned 8 bit to work with FindCountours()\n",
        "  dst = dst.astype(np.uint8)\n",
        "  \n",
        "  return dst"
      ],
      "execution_count": 0,
      "outputs": []
    },
    {
      "metadata": {
        "id": "G2pfoOpvcJhe",
        "colab_type": "text"
      },
      "cell_type": "markdown",
      "source": [
        "## Remove images with touching digits"
      ]
    },
    {
      "metadata": {
        "id": "EVNxQ-MpGrjP",
        "colab_type": "code",
        "colab": {
          "autoexec": {
            "startup": false,
            "wait_interval": 0
          }
        }
      },
      "cell_type": "code",
      "source": [
        "def remove_touching_images(X,y_label,thresh=254,maxValue=255):\n",
        "  \n",
        "  images = []\n",
        "  labels = []\n",
        "  \n",
        "  counter = -1\n",
        "  for img in X:\n",
        "    counter+=1\n",
        "    # turn image black and white\n",
        "    dst = img_blackNwhite(img,thresh,maxValue)\n",
        "  \n",
        "    # Find Contours\n",
        "    image, contours, hier = cv2.findContours(dst, cv2.RETR_EXTERNAL,cv2.CHAIN_APPROX_SIMPLE)\n",
        "    \n",
        "    \n",
        "    # within each image look at the bounding boxes\n",
        "    count = 0 # count is used to just append the image once \n",
        "    for cnt in contours:\n",
        "      count+=1\n",
        "      x,y,w,h = cv2.boundingRect(cnt)\n",
        "      \n",
        "      # if the dimensions are good append\n",
        "      if((w <= 36 and w > 0) and (h > 0 and h <= 36)):\n",
        "        if(count==1):\n",
        "          images.append(img)\n",
        "          labels.append(y_label[counter])\n",
        "      \n",
        "      # if the dim are not good\n",
        "      else:\n",
        "        break\n",
        "  # turn them into numpy arrays\n",
        "  images = np.asarray(images)\n",
        "  labels = np.asarray(labels)\n",
        "  \n",
        "  return images,labels"
      ],
      "execution_count": 0,
      "outputs": []
    },
    {
      "metadata": {
        "id": "_2bggFEUW9xf",
        "colab_type": "code",
        "colab": {
          "autoexec": {
            "startup": false,
            "wait_interval": 0
          },
          "output_extras": [
            {
              "item_id": 2
            }
          ],
          "base_uri": "https://localhost:8080/",
          "height": 85
        },
        "outputId": "21c9b362-d78f-4954-841d-111c5b20d39c",
        "executionInfo": {
          "status": "ok",
          "timestamp": 1521687352808,
          "user_tz": 240,
          "elapsed": 2876,
          "user": {
            "displayName": "Daoud Piracha",
            "photoUrl": "https://lh3.googleusercontent.com/a/default-user=s128",
            "userId": "108185722932791441609"
          }
        }
      },
      "cell_type": "code",
      "source": [
        "print(\"before removal {0}, {1}\".format(train_x.shape,train_y.shape))\n",
        "\n",
        "train_x_wo_touching,train_y_wo_touching = remove_touching_images(train_x,train_y)\n",
        "\n",
        "print(\"after removal\")\n",
        "print(train_x_wo_touching.shape)\n",
        "print(train_y_wo_touching.shape)"
      ],
      "execution_count": 10,
      "outputs": [
        {
          "output_type": "stream",
          "text": [
            "before removal (50000, 64, 64), (50000, 1)\n",
            "after removal\n",
            "(49828, 64, 64)\n",
            "(49828, 1)\n"
          ],
          "name": "stdout"
        }
      ]
    },
    {
      "metadata": {
        "id": "BelR0fsqfgSE",
        "colab_type": "text"
      },
      "cell_type": "markdown",
      "source": [
        "## Bounding images"
      ]
    },
    {
      "metadata": {
        "id": "9-nm0_NNL4G0",
        "colab_type": "code",
        "colab": {
          "autoexec": {
            "startup": false,
            "wait_interval": 0
          }
        }
      },
      "cell_type": "code",
      "source": [
        "def get_bounding_image(img,thresh=254,maxValue=255):\n",
        "  \n",
        "  ''' \n",
        "      function that returns the subimages from img using bounding box approach\n",
        "      with a threshold\n",
        "      \n",
        "      - input: is a 64 x 64 image, the treshold and maxValue for seperating background\n",
        "      - return: list of subimages (as numpy matricies) from img \n",
        "  '''\n",
        "  \n",
        "  # turn image to binary black and white\n",
        "  dst = img_blackNwhite(img)\n",
        "  \n",
        "  # Find Contours\n",
        "  image, contours, hier = cv2.findContours(dst, cv2.RETR_EXTERNAL,\n",
        "                cv2.CHAIN_APPROX_SIMPLE)\n",
        "  \n",
        "  # Get images in the countours\n",
        "  images = []\n",
        "  for cnt in contours:\n",
        "    \n",
        "    x,y,w,h = cv2.boundingRect(cnt)\n",
        "    images.append(image[y:y+h,x:x+w])  \n",
        "    \n",
        "  return images"
      ],
      "execution_count": 0,
      "outputs": []
    },
    {
      "metadata": {
        "id": "1WXhvwylfj1J",
        "colab_type": "text"
      },
      "cell_type": "markdown",
      "source": [
        "## Resize\n"
      ]
    },
    {
      "metadata": {
        "id": "bEyXOUDwL9fh",
        "colab_type": "code",
        "colab": {
          "autoexec": {
            "startup": false,
            "wait_interval": 0
          }
        }
      },
      "cell_type": "code",
      "source": [
        "def resizeAndPad(img, size, padColor=0):\n",
        "\n",
        "    h, w = img.shape[:2]\n",
        "    sh, sw = size\n",
        "\n",
        "    # interpolation method\n",
        "    if h > sh or w > sw: # shrinking image\n",
        "        interp = cv2.INTER_AREA\n",
        "    else: # stretching image\n",
        "        interp = cv2.INTER_CUBIC\n",
        "\n",
        "    # aspect ratio of image\n",
        "    aspect = w/h  # if on Python 2, you might need to cast as a float: float(w)/h\n",
        "\n",
        "    # compute scaling and pad sizing\n",
        "    if aspect > 1: # horizontal image\n",
        "        new_w = sw\n",
        "        new_h = np.round(new_w/aspect).astype(int)\n",
        "        pad_vert = (sh-new_h)/2\n",
        "        pad_top, pad_bot = np.floor(pad_vert).astype(int), np.ceil(pad_vert).astype(int)\n",
        "        pad_left, pad_right = 0, 0\n",
        "    elif aspect < 1: # vertical image\n",
        "        new_h = sh\n",
        "        new_w = np.round(new_h*aspect).astype(int)\n",
        "        pad_horz = (sw-new_w)/2\n",
        "        pad_left, pad_right = np.floor(pad_horz).astype(int), np.ceil(pad_horz).astype(int)\n",
        "        pad_top, pad_bot = 0, 0\n",
        "    else: # square image\n",
        "        new_h, new_w = sh, sw\n",
        "        pad_left, pad_right, pad_top, pad_bot = 0, 0, 0, 0\n",
        "\n",
        "    # set pad color\n",
        "    if len(img.shape) is 3 and not isinstance(padColor, (list, tuple, np.ndarray)): # color image but only one color provided\n",
        "        padColor = [padColor]*3\n",
        "\n",
        "    # scale and pad\n",
        "    scaled_img = cv2.resize(img, (new_w, new_h), interpolation=interp)\n",
        "    scaled_img = cv2.copyMakeBorder(scaled_img, pad_top, pad_bot, pad_left, pad_right, borderType=cv2.BORDER_CONSTANT, value=padColor)\n",
        "\n",
        "    return scaled_img"
      ],
      "execution_count": 0,
      "outputs": []
    },
    {
      "metadata": {
        "id": "7VwYulQiByHx",
        "colab_type": "code",
        "colab": {
          "autoexec": {
            "startup": false,
            "wait_interval": 0
          }
        }
      },
      "cell_type": "code",
      "source": [
        "def rescale_images(images,rescale_size=(20,20), pad = 4):\n",
        " \n",
        "  ''' given a set of raw images (or preprocessed images)\n",
        "     returns another set of rescaled images based on rescale_size\n",
        "     \n",
        "     images: list of images\n",
        "     rescale_size: the size we wish to resize the images to, default is 28x28\n",
        "                   the size of MNIST\n",
        "     return: list of resized images\n",
        " '''\n",
        "  scaled_images=[]\n",
        " \n",
        "  for image in images:\n",
        "    # get subimages\n",
        "    sub_images =  get_bounding_image(image)\n",
        "    for sub_img in sub_images:\n",
        "      # resize\n",
        "      dst = resizeAndPad(sub_img, rescale_size, padColor= 0)\n",
        "      #padding\n",
        "      dst = cv2.copyMakeBorder(dst, pad, pad, pad, pad, borderType=0)\n",
        "      #save\n",
        "      scaled_images.append(dst)\n",
        " \n",
        "  return np.asarray(scaled_images)"
      ],
      "execution_count": 0,
      "outputs": []
    },
    {
      "metadata": {
        "id": "UJPr0HN7DY6q",
        "colab_type": "code",
        "colab": {
          "autoexec": {
            "startup": false,
            "wait_interval": 0
          }
        }
      },
      "cell_type": "code",
      "source": [
        "def rescale(image,rescale_size=(20,20), pad = 4):\n",
        "  \n",
        "  ''' function for rescaling just one image\n",
        "  \n",
        "      input: a bounding box type image\n",
        "      return: rescaled image close to MNIST\n",
        "  '''\n",
        "  dst = resizeAndPad(image, rescale_size, padColor= 0)\n",
        "  #padding\n",
        "  dst = cv2.copyMakeBorder(dst, pad, pad, pad, pad, borderType=0)\n",
        "  return dst \n",
        "    "
      ],
      "execution_count": 0,
      "outputs": []
    },
    {
      "metadata": {
        "id": "LmLXTYhHdvms",
        "colab_type": "text"
      },
      "cell_type": "markdown",
      "source": [
        "# Methods for picking the largest subimage"
      ]
    },
    {
      "metadata": {
        "id": "qPBaFRsKflq5",
        "colab_type": "text"
      },
      "cell_type": "markdown",
      "source": [
        "## Count pixels"
      ]
    },
    {
      "metadata": {
        "id": "LP9wzLd4EqLP",
        "colab_type": "code",
        "colab": {
          "autoexec": {
            "startup": false,
            "wait_interval": 0
          }
        }
      },
      "cell_type": "code",
      "source": [
        "def count_pixels(image):\n",
        "  ''' returns the count of all the non zero pixel in an image\n",
        "  '''\n",
        "  counter = 0\n",
        "  for row in image:\n",
        "    for element in row:\n",
        "      if (element != 0): counter +=1\n",
        "  return counter\n",
        "\n",
        "def count_pixels_gray(image):\n",
        "  ''' returns the sum of all the non zero pixel in an image\n",
        "  '''\n",
        "  norm = image/255\n",
        "  counter = 0\n",
        "  for row in norm:\n",
        "    for element in row:\n",
        "      if (element != 0): counter += element\n",
        "  return counter\n",
        "\n"
      ],
      "execution_count": 0,
      "outputs": []
    },
    {
      "metadata": {
        "id": "tqZN1WKSFLVU",
        "colab_type": "text"
      },
      "cell_type": "markdown",
      "source": [
        "## find largest based on area"
      ]
    },
    {
      "metadata": {
        "id": "bIe-Fx8WErnc",
        "colab_type": "code",
        "colab": {
          "autoexec": {
            "startup": false,
            "wait_interval": 0
          }
        }
      },
      "cell_type": "code",
      "source": [
        "# a way of choosing between the subimages for a given image\n",
        "def find_largest_count(images):\n",
        "  \n",
        "  '''\n",
        "     given a set of subimages, returns the subimage that was the largest in area\n",
        "     \n",
        "     images: set of subimages, like the ones return by get_bounding_image\n",
        "     return: numpy array of largest integer \n",
        "  '''\n",
        "  \n",
        "  counts=[]\n",
        "  for img in images:\n",
        "    counts.append(count_pixels_gray(img))\n",
        "\n",
        "  index = counts.index(max(counts))  \n",
        "  \n",
        "  return images[index]\n",
        "\n",
        "# a way of choosing between the subimages for a given image\n",
        "def find_largest_axes(images):\n",
        "  \n",
        "  '''\n",
        "     given a set of subimages, returns the subimage that was the largest in area\n",
        "     \n",
        "     images: set of subimages, like the ones return by get_bounding_image\n",
        "     return: numpy array of largest integer \n",
        "  '''\n",
        "  \n",
        "  counts=[]\n",
        "  for img in images:\n",
        "\n",
        "    counts.append(max(img.shape))\n",
        "\n",
        "  index = counts.index(max(counts))  \n",
        "  \n",
        "  return images[index]"
      ],
      "execution_count": 0,
      "outputs": []
    },
    {
      "metadata": {
        "id": "uH_jzGEjFTaf",
        "colab_type": "text"
      },
      "cell_type": "markdown",
      "source": [
        "## find largest based on ratio"
      ]
    },
    {
      "metadata": {
        "id": "S79U59oGLduX",
        "colab_type": "code",
        "colab": {
          "autoexec": {
            "startup": false,
            "wait_interval": 0
          }
        }
      },
      "cell_type": "code",
      "source": [
        "# another way of choosing between the subimages for a given image\n",
        "\n",
        "def find_largest_count_ratio(images):\n",
        "  '''\n",
        "      returns largest subimage based on the ratio of pixel counts between the actual subimage and the MNIST scaled version\n",
        "  '''\n",
        "  \n",
        "  count_ratios=[]\n",
        "  for img in images:\n",
        "\n",
        "    pre_scaled_count = count_pixels_gray(img)\n",
        "    \n",
        "    post_scaled = rescale(img)\n",
        "    post_scaled_count = count_pixels_gray(post_scaled)\n",
        "    \n",
        "    ratio = pre_scaled_count/post_scaled_count\n",
        "  \n",
        "    count_ratios.append( ratio )\n",
        "  \n",
        "  # find the max image based on ratio\n",
        "  max_val = max(count_ratios)\n",
        "  index = count_ratios.index(max_val) \n",
        "  \n",
        "  return images[index]"
      ],
      "execution_count": 0,
      "outputs": []
    },
    {
      "metadata": {
        "id": "t0oVCrPveCYA",
        "colab_type": "text"
      },
      "cell_type": "markdown",
      "source": [
        "# Changing the dataset to just contain one subimage"
      ]
    },
    {
      "metadata": {
        "id": "eXCT9P89MTmO",
        "colab_type": "text"
      },
      "cell_type": "markdown",
      "source": [
        "## Replacing dataset with chosen images"
      ]
    },
    {
      "metadata": {
        "id": "T-418HvzMQAg",
        "colab_type": "code",
        "colab": {
          "autoexec": {
            "startup": false,
            "wait_interval": 0
          }
        }
      },
      "cell_type": "code",
      "source": [
        "def new_data(data,method):\n",
        "  \n",
        "  ''' \n",
        "    function to go from dataset --> upto 3 preprocessed subimages \n",
        "    return the X given a method of choosing between the subimages\n",
        "    (for example using find_largest_count or looking at ratios)\n",
        "    \n",
        "    we go from raw data to data that just has one subimage included\n",
        "    \n",
        "    input: raw image data\n",
        "    return: chosen subimages data\n",
        "  '''\n",
        "  \n",
        "  new_data = []\n",
        "  \n",
        "  for image in data:\n",
        "   # get subimgs\n",
        "    sub_images =  get_bounding_image(image.reshape(64,64))\n",
        "    #find the largest one\n",
        "    largest = method(sub_images)    \n",
        "    #resize it\n",
        "    dst = rescale(largest)\n",
        "    #dst = resizeAndPad(largest, (28,28), padColor= 0) # previous way of rescaling img\n",
        "    #save it\n",
        "    new_data.append(dst)\n",
        "\n",
        "  return np.asarray(new_data)\n"
      ],
      "execution_count": 0,
      "outputs": []
    },
    {
      "metadata": {
        "id": "gwZkZRR4MzI_",
        "colab_type": "code",
        "colab": {
          "autoexec": {
            "startup": false,
            "wait_interval": 0
          },
          "output_extras": [
            {
              "item_id": 2
            }
          ],
          "base_uri": "https://localhost:8080/",
          "height": 51
        },
        "outputId": "3d87139f-7ff5-4ac5-a0d2-051fdee5371f",
        "executionInfo": {
          "status": "ok",
          "timestamp": 1521688465862,
          "user_tz": 240,
          "elapsed": 57283,
          "user": {
            "displayName": "Daoud Piracha",
            "photoUrl": "https://lh3.googleusercontent.com/a/default-user=s128",
            "userId": "108185722932791441609"
          }
        }
      },
      "cell_type": "code",
      "source": [
        "#runing code to get modified dataset \n",
        "\n",
        "print(train_x_wo_touching.shape)\n",
        "new_x_train_data = new_data(train_x_wo_touching,find_largest_count_ratio)\n",
        "\n",
        "# Uncomment code below to get a dataset using find_largest_axes instead:\n",
        "#new_x_train_data = new_data(train_x_wo_touching,find_largest_axes) \n",
        "\n",
        "print(new_x_train_data.shape)"
      ],
      "execution_count": 35,
      "outputs": [
        {
          "output_type": "stream",
          "text": [
            "(49828, 64, 64)\n",
            "(49828, 28, 28)\n"
          ],
          "name": "stdout"
        }
      ]
    },
    {
      "metadata": {
        "id": "FQ0jpiADKTab",
        "colab_type": "code",
        "colab": {
          "autoexec": {
            "startup": false,
            "wait_interval": 0
          }
        }
      },
      "cell_type": "code",
      "source": [
        "#data augmentation\n",
        "def transform_image(img,ang_range, shear_range):\n",
        "    '''\n",
        "    This function transforms images to generate new images.\n",
        "    The function takes in following arguments,\n",
        "    1- Image\n",
        "    2- ang_range: Range of angles for rotation\n",
        "    3- shear_range: Range of values to apply affine transform to\n",
        "    4- trans_range: Range of values to apply translations over.\n",
        "\n",
        "    A Random uniform distribution is used to generate different parameters for transformation\n",
        "\n",
        "    '''\n",
        "    # Rotation\n",
        "\n",
        "    ang_rot = np.random.uniform(ang_range)-ang_range/2\n",
        "    rows,cols = img.shape    \n",
        "    Rot_M = cv2.getRotationMatrix2D((cols/2,rows/2),ang_rot,1)\n",
        "    \n",
        "    \n",
        "    # Shear\n",
        "    pts1 = np.float32([[5,5],[20,5],[5,20]])\n",
        "\n",
        "    pt1 = 5+shear_range*np.random.uniform()-shear_range/2\n",
        "    pt2 = 20+shear_range*np.random.uniform()-shear_range/2\n",
        "  # Brightness\n",
        "\n",
        "\n",
        "    pts2 = np.float32([[pt1,5],[pt2,pt1],[5,pt2]])\n",
        "    \n",
        "    shear_M = cv2.getAffineTransform(pts1,pts2)\n",
        "\n",
        "    \n",
        "    img = cv2.warpAffine(img,Rot_M,(cols,rows))\n",
        "    img = cv2.warpAffine(img,shear_M,(cols,rows))\n",
        "\n",
        "    \n",
        "    return img\n",
        "#dst = transform_image(new_x_train_data[0], 360, 2)\n",
        "\n",
        "\n",
        "def dataAugment(images, labels, factor = 5):\n",
        "  new_img = []\n",
        "  new_labels = []\n",
        "  for img in range(0,len(images)):\n",
        "    for i in range(0,factor):\n",
        "      dst = transform_image(images[img], 360, 2)\n",
        "      new_img.append(dst)\n",
        "      new_labels.append(labels[img])\n",
        "      \n",
        "  return np.asarray(new_img), np.asarray(new_labels)\n",
        "\n",
        "# temp_img, temp_labels = dataAugment(new_x_train_data, train_y_wo_touching)\n",
        "# print(new_x_train_data.shape, train_y_wo_touching.shape)\n",
        "# print(temp_img.shape, temp_labels.shape)"
      ],
      "execution_count": 0,
      "outputs": []
    },
    {
      "metadata": {
        "id": "n4Q3IvMUOi7_",
        "colab_type": "text"
      },
      "cell_type": "markdown",
      "source": [
        "# Evaluating models"
      ]
    },
    {
      "metadata": {
        "id": "uALOp9FkgNPA",
        "colab_type": "code",
        "colab": {
          "autoexec": {
            "startup": false,
            "wait_interval": 0
          }
        }
      },
      "cell_type": "code",
      "source": [
        "def preprocessing_CNN(x):\n",
        " \n",
        "  ''' function for pre processing our images for CNN input\n",
        "  \n",
        "      x: already rescaled subimages \n",
        "      \n",
        "      return: x ready for input into CNN\n",
        "             \n",
        "  '''\n",
        "\n",
        "  img_rows, img_cols = 28, 28\n",
        "  \n",
        "  x_copy = np.copy(x)\n",
        "  x_copy = x_copy.reshape(x.shape[0], img_rows, img_cols, 1)\n",
        "  x_copy = x_copy.astype('float32')\n",
        "  x_copy /= 255\n",
        "\n",
        "  return x_copy"
      ],
      "execution_count": 0,
      "outputs": []
    },
    {
      "metadata": {
        "id": "oCo-NvOSbuRE",
        "colab_type": "code",
        "colab": {
          "autoexec": {
            "startup": false,
            "wait_interval": 0
          }
        }
      },
      "cell_type": "code",
      "source": [
        "def flatten(data):\n",
        "  \n",
        "  flattened_data = []\n",
        "  for entry in data:\n",
        "    flattened_data.append(entry.flatten())\n",
        "    \n",
        "  return np.asarray(flattened_data)"
      ],
      "execution_count": 0,
      "outputs": []
    },
    {
      "metadata": {
        "id": "C-EsQD86ng7B",
        "colab_type": "text"
      },
      "cell_type": "markdown",
      "source": [
        "## neural network"
      ]
    },
    {
      "metadata": {
        "id": "TNNf5G7pYH_z",
        "colab_type": "code",
        "colab": {
          "autoexec": {
            "startup": false,
            "wait_interval": 0
          },
          "output_extras": [
            {
              "item_id": 1
            },
            {
              "item_id": 2
            }
          ],
          "base_uri": "https://localhost:8080/",
          "height": 538
        },
        "outputId": "688e5d22-8bd7-4484-fdc8-2c113a299aac",
        "executionInfo": {
          "status": "error",
          "timestamp": 1521689810559,
          "user_tz": 240,
          "elapsed": 1793,
          "user": {
            "displayName": "Daoud Piracha",
            "photoUrl": "https://lh3.googleusercontent.com/a/default-user=s128",
            "userId": "108185722932791441609"
          }
        }
      },
      "cell_type": "code",
      "source": [
        "\"\"\"\n",
        "Simplistic implementation of the two-layer neural network.\n",
        "Training method is stochastic (online) gradient descent with momentum.\n",
        "As an example it computes XOR for given input.\n",
        "Some details:\n",
        "- tanh activation for hidden layer\n",
        "- sigmoid activation for output layer\n",
        "- cross-entropy loss\n",
        "Less than 100 lines of active code.\n",
        "\"\"\"\n",
        "\n",
        "import numpy as np\n",
        "import time\n",
        "\n",
        "n_hidden = 28\n",
        "n_in = 784\n",
        "n_out = 10\n",
        "n_samples = 300\n",
        "\n",
        "learning_rate = 0.01\n",
        "momentum = 0.9\n",
        "\n",
        "np.random.seed(0)\n",
        "\n",
        "\n",
        "def Sigmoid_forward(X):\n",
        "     return 1.0 / (1.0 + np.exp(-X))\n",
        "\n",
        "\n",
        "\n",
        "# class Tanh:\n",
        "#     def forward(self, X):\n",
        "#         return np.tanh(X)\n",
        "\n",
        "#     def backward(self, X, top_diff):\n",
        "#         output = self.forward(X)\n",
        "#         return (1.0 - np.square(output)) * top_diff\n",
        "\n",
        "\n",
        "def Softmax_loss(X, y):\n",
        "    num_examples = X.shape[0]\n",
        "    probs = Softmax_predict(X)\n",
        "    data_loss = 0\n",
        "    for i in range(num_examples):\n",
        "      corect_logprobs = -np.log(probs[i]*y[i])\n",
        "      data_loss += corect_logprobs\n",
        "    return 1./num_examples * data_loss\n",
        "    #loss = -np.mean ( true * np.log(Y) + (1 - true) * np.log(1 - Y) )\n",
        "    #return loss\n",
        "\n",
        "def Softmax_predict(x):\n",
        "    \"\"\"Compute softmax values for each sets of scores in x.\"\"\"\n",
        "    e_x = np.exp(x - np.max(x))\n",
        "    return e_x / e_x.sum()\n",
        "    \n",
        "\n",
        "def Softmax_diff(X, y):\n",
        "    num_examples = X.shape[0]\n",
        "    probs = Softmax_predict(X)\n",
        "    probs[range(num_examples), y] -= 1\n",
        "    return probs\n",
        "      \n",
        "\n",
        "def sigmoid(x):\n",
        "    return 1.0/(1.0 + np.exp(-x))\n",
        "\n",
        "def tanh_prime(x):\n",
        "    return  1 - np.tanh(x)**2\n",
        "\n",
        "def softmax_loss_naive(W, X, y, reg= 0):\n",
        "  \"\"\"\n",
        "  Softmax loss function, naive implementation (with loops)\n",
        "  Inputs:\n",
        "  - W: C x D array of weights \n",
        "  - X: D x N array of data. Data are D-dimensional columns\n",
        "  - y: 1-dimensional array of length N with labels 0...K-1, for K classes for us the one hot encoded\n",
        "  - reg: (float) regularization strength\n",
        "  Returns:\n",
        "  a tuple of:\n",
        "  - loss as single float\n",
        "  - gradient with respect to weights W, an array of same size as W\n",
        "  \"\"\"\n",
        "  # Initialize the loss and gradient to zero.\n",
        "  loss = 0.0\n",
        "  dW = np.zeros_like(W)\n",
        "\n",
        "  #############################################################################\n",
        "  # Compute the softmax loss and its gradient using explicit loops.           #\n",
        "  # Store the loss in loss and the gradient in dW. If you are not careful     #\n",
        "  # here, it is easy to run into numeric instability. Don't forget the        #\n",
        "  # regularization!                                                           #\n",
        "  #############################################################################\n",
        "\n",
        "  # Get shapes\n",
        "  num_classes = W.shape[0]\n",
        "  num_train = X.shape[1]\n",
        "\n",
        "  for i in range(num_train):\n",
        "    # Compute vector of scores\n",
        "    f_i = W.dot(X[:, i]) # in R^{num_classes}\n",
        "\n",
        "    # Normalization trick to avoid numerical instability, per http://cs231n.github.io/linear-classify/#softmax\n",
        "    log_c = np.max(f_i)\n",
        "    f_i -= log_c\n",
        "\n",
        "    # Compute loss (and add to it, divided later)\n",
        "    # L_i = - f(x_i)_{y_i} + log \\sum_j e^{f(x_i)_j}\n",
        "    sum_i = 0.0\n",
        "    for f_i_j in f_i:\n",
        "      sum_i += np.exp(f_i_j)\n",
        "    loss += -f_i[y[i]] + np.log(sum_i)\n",
        "\n",
        "    # Compute gradient\n",
        "    # dw_j = 1/num_train * \\sum_i[x_i * (p(y_i = j)-Ind{y_i = j} )]\n",
        "    # Here we are computing the contribution to the inner sum for a given i.\n",
        "    for j in range(num_classes):\n",
        "      p = np.exp(f_i[j])/sum_i\n",
        "      dW[j, :] += (p-(j == y[i])) * X[:, i]\n",
        "\n",
        "  # Compute average\n",
        "  loss /= num_train\n",
        "  dW /= num_train\n",
        "\n",
        "  # Regularization\n",
        "  loss += 0.5 * reg * np.sum(W * W)\n",
        "  dW += reg*W\n",
        "\n",
        "  return loss, dW\n",
        "\n",
        "\n",
        "\n",
        "def train(x, true, V, W, bv, bw):\n",
        "\n",
        "    # forward\n",
        "    print (x.shape)\n",
        "    print (np.dot(x, V).shape)\n",
        "\n",
        "    A = np.dot(x, V) + bv\n",
        "    Z = np.tanh(A)\n",
        "\n",
        "    B = np.dot(Z, W) + bw\n",
        "    Y = Softmax_predict(B)\n",
        "    print (A.shape)\n",
        "    print (Y.shape)\n",
        "\n",
        "    # backward\n",
        "    Ew, dW = softmax_loss_naive(W,x, true)\n",
        "    print (Ew.shape)\n",
        "    Ev = tanh_prime(A) * np.dot(W, Ew)\n",
        "\n",
        "    #dW = Softmax_dW(x,true)\n",
        "    dV = np.outer(x, Ev)\n",
        "\n",
        "    loss = -np.mean ( true * np.log(Y) + (1 - true) * np.log(1 - Y) )\n",
        "\n",
        "    # Note that we use error for each layer as a gradient\n",
        "    # for biases\n",
        "\n",
        "    return  loss, (dV, dW, Ev, Ew)\n",
        "\n",
        "def predict(x, V, W, bv, bw):\n",
        "    A = np.dot(x, V) + bv\n",
        "    B = np.dot(np.tanh(A), W) + bw\n",
        "    return (sigmoid(B) > 0.5).astype(int)\n",
        "\n",
        "# Setup initial parameters\n",
        "# initalizing on random wieghts\n",
        "\n",
        "V = np.random.normal(scale=0.1, size=(n_in, n_hidden))\n",
        "W = np.random.normal(scale=0.1, size=(n_hidden, n_out))\n",
        "\n",
        "bv = np.zeros(n_hidden)\n",
        "bw = np.zeros(n_out)\n",
        "\n",
        "params = [V,W,bv,bw]\n",
        "\n",
        "# Generate some data\n",
        "\n",
        "X = flatten(new_x_train_data)\n",
        "\n",
        "T = keras.utils.to_categorical(train_y_wo_touching, 10)\n",
        "\n",
        "\n",
        "# Train\n",
        "for epoch in range(100):\n",
        "    err = []\n",
        "    upd = [0]*len(params)\n",
        "\n",
        "    t0 = time.clock()\n",
        "    loss, grad = train(X, T, *params)\n",
        "    params -= upd\n",
        "    upd = learning_rate * grad + upd\n",
        "    \n",
        "#     for i in range(X.shape[0]):\n",
        "# #         loss, grad = train(X[i], T[i], *params)\n",
        "\n",
        "#         for j in range(len(params)):\n",
        "#             #params[j] -= upd[j]\n",
        "\n",
        "#         for j in range(len(params)):\n",
        "#             upd[j] = learning_rate * grad[j] + momentum * upd[j]\n",
        "\n",
        "    err.append( loss )\n",
        "        \n",
        "        \n",
        "        "
      ],
      "execution_count": 46,
      "outputs": [
        {
          "output_type": "stream",
          "text": [
            "(49828, 784)\n",
            "(49828, 28)\n",
            "(49828, 28)\n",
            "(49828, 10)\n"
          ],
          "name": "stdout"
        },
        {
          "output_type": "error",
          "ename": "ValueError",
          "evalue": "ignored",
          "traceback": [
            "\u001b[0;31m---------------------------------------------------------------------------\u001b[0m",
            "\u001b[0;31mValueError\u001b[0m                                Traceback (most recent call last)",
            "\u001b[0;32m<ipython-input-46-8e199713092a>\u001b[0m in \u001b[0;36m<module>\u001b[0;34m()\u001b[0m\n\u001b[1;32m    188\u001b[0m \u001b[0;34m\u001b[0m\u001b[0m\n\u001b[1;32m    189\u001b[0m     \u001b[0mt0\u001b[0m \u001b[0;34m=\u001b[0m \u001b[0mtime\u001b[0m\u001b[0;34m.\u001b[0m\u001b[0mclock\u001b[0m\u001b[0;34m(\u001b[0m\u001b[0;34m)\u001b[0m\u001b[0;34m\u001b[0m\u001b[0m\n\u001b[0;32m--> 190\u001b[0;31m     \u001b[0mloss\u001b[0m\u001b[0;34m,\u001b[0m \u001b[0mgrad\u001b[0m \u001b[0;34m=\u001b[0m \u001b[0mtrain\u001b[0m\u001b[0;34m(\u001b[0m\u001b[0mX\u001b[0m\u001b[0;34m,\u001b[0m \u001b[0mT\u001b[0m\u001b[0;34m,\u001b[0m \u001b[0;34m*\u001b[0m\u001b[0mparams\u001b[0m\u001b[0;34m)\u001b[0m\u001b[0;34m\u001b[0m\u001b[0m\n\u001b[0m\u001b[1;32m    191\u001b[0m     \u001b[0mparams\u001b[0m \u001b[0;34m-=\u001b[0m \u001b[0mupd\u001b[0m\u001b[0;34m\u001b[0m\u001b[0m\n\u001b[1;32m    192\u001b[0m     \u001b[0mupd\u001b[0m \u001b[0;34m=\u001b[0m \u001b[0mlearning_rate\u001b[0m \u001b[0;34m*\u001b[0m \u001b[0mgrad\u001b[0m \u001b[0;34m+\u001b[0m \u001b[0mupd\u001b[0m\u001b[0;34m\u001b[0m\u001b[0m\n",
            "\u001b[0;32m<ipython-input-46-8e199713092a>\u001b[0m in \u001b[0;36mtrain\u001b[0;34m(x, true, V, W, bv, bw)\u001b[0m\n\u001b[1;32m    145\u001b[0m \u001b[0;34m\u001b[0m\u001b[0m\n\u001b[1;32m    146\u001b[0m     \u001b[0;31m# backward\u001b[0m\u001b[0;34m\u001b[0m\u001b[0;34m\u001b[0m\u001b[0m\n\u001b[0;32m--> 147\u001b[0;31m     \u001b[0mEw\u001b[0m\u001b[0;34m,\u001b[0m \u001b[0mdW\u001b[0m \u001b[0;34m=\u001b[0m \u001b[0msoftmax_loss_naive\u001b[0m\u001b[0;34m(\u001b[0m\u001b[0mW\u001b[0m\u001b[0;34m,\u001b[0m\u001b[0mx\u001b[0m\u001b[0;34m,\u001b[0m \u001b[0mtrue\u001b[0m\u001b[0;34m)\u001b[0m\u001b[0;34m\u001b[0m\u001b[0m\n\u001b[0m\u001b[1;32m    148\u001b[0m     \u001b[0mprint\u001b[0m \u001b[0;34m(\u001b[0m\u001b[0mEw\u001b[0m\u001b[0;34m.\u001b[0m\u001b[0mshape\u001b[0m\u001b[0;34m)\u001b[0m\u001b[0;34m\u001b[0m\u001b[0m\n\u001b[1;32m    149\u001b[0m     \u001b[0mEv\u001b[0m \u001b[0;34m=\u001b[0m \u001b[0mtanh_prime\u001b[0m\u001b[0;34m(\u001b[0m\u001b[0mA\u001b[0m\u001b[0;34m)\u001b[0m \u001b[0;34m*\u001b[0m \u001b[0mnp\u001b[0m\u001b[0;34m.\u001b[0m\u001b[0mdot\u001b[0m\u001b[0;34m(\u001b[0m\u001b[0mW\u001b[0m\u001b[0;34m,\u001b[0m \u001b[0mEw\u001b[0m\u001b[0;34m)\u001b[0m\u001b[0;34m\u001b[0m\u001b[0m\n",
            "\u001b[0;32m<ipython-input-46-8e199713092a>\u001b[0m in \u001b[0;36msoftmax_loss_naive\u001b[0;34m(W, X, y, reg)\u001b[0m\n\u001b[1;32m     98\u001b[0m   \u001b[0;32mfor\u001b[0m \u001b[0mi\u001b[0m \u001b[0;32min\u001b[0m \u001b[0mrange\u001b[0m\u001b[0;34m(\u001b[0m\u001b[0mnum_train\u001b[0m\u001b[0;34m)\u001b[0m\u001b[0;34m:\u001b[0m\u001b[0;34m\u001b[0m\u001b[0m\n\u001b[1;32m     99\u001b[0m     \u001b[0;31m# Compute vector of scores\u001b[0m\u001b[0;34m\u001b[0m\u001b[0;34m\u001b[0m\u001b[0m\n\u001b[0;32m--> 100\u001b[0;31m     \u001b[0mf_i\u001b[0m \u001b[0;34m=\u001b[0m \u001b[0mW\u001b[0m\u001b[0;34m.\u001b[0m\u001b[0mdot\u001b[0m\u001b[0;34m(\u001b[0m\u001b[0mX\u001b[0m\u001b[0;34m[\u001b[0m\u001b[0;34m:\u001b[0m\u001b[0;34m,\u001b[0m \u001b[0mi\u001b[0m\u001b[0;34m]\u001b[0m\u001b[0;34m)\u001b[0m \u001b[0;31m# in R^{num_classes}\u001b[0m\u001b[0;34m\u001b[0m\u001b[0m\n\u001b[0m\u001b[1;32m    101\u001b[0m \u001b[0;34m\u001b[0m\u001b[0m\n\u001b[1;32m    102\u001b[0m     \u001b[0;31m# Normalization trick to avoid numerical instability, per http://cs231n.github.io/linear-classify/#softmax\u001b[0m\u001b[0;34m\u001b[0m\u001b[0;34m\u001b[0m\u001b[0m\n",
            "\u001b[0;31mValueError\u001b[0m: shapes (28,10) and (49828,) not aligned: 10 (dim 1) != 49828 (dim 0)"
          ]
        }
      ]
    },
    {
      "metadata": {
        "id": "Mf3_LxAQgRGI",
        "colab_type": "code",
        "colab": {
          "autoexec": {
            "startup": false,
            "wait_interval": 0
          },
          "output_extras": [
            {
              "item_id": 1
            }
          ],
          "base_uri": "https://localhost:8080/",
          "height": 34
        },
        "outputId": "31d6a770-84ca-47f6-f762-d68e1a30c8c9",
        "executionInfo": {
          "status": "ok",
          "timestamp": 1521685177739,
          "user_tz": 240,
          "elapsed": 691,
          "user": {
            "displayName": "Daoud Piracha",
            "photoUrl": "https://lh3.googleusercontent.com/a/default-user=s128",
            "userId": "108185722932791441609"
          }
        }
      },
      "cell_type": "code",
      "source": [
        "flatten(new_x_train_data).shape"
      ],
      "execution_count": 83,
      "outputs": [
        {
          "output_type": "execute_result",
          "data": {
            "text/plain": [
              "(49828, 784)"
            ]
          },
          "metadata": {
            "tags": []
          },
          "execution_count": 83
        }
      ]
    },
    {
      "metadata": {
        "id": "Dl1avYc2YuiG",
        "colab_type": "text"
      },
      "cell_type": "markdown",
      "source": [
        "## Transfer Learning attempt"
      ]
    },
    {
      "metadata": {
        "id": "TTLgoQY5xKGb",
        "colab_type": "code",
        "colab": {
          "autoexec": {
            "startup": false,
            "wait_interval": 0
          },
          "output_extras": [
            {
              "item_id": 29
            },
            {
              "item_id": 30
            }
          ],
          "base_uri": "https://localhost:8080/",
          "height": 1306
        },
        "outputId": "6c49bd31-d344-43a4-9cf6-e4dc8901eed8",
        "executionInfo": {
          "status": "error",
          "timestamp": 1521687500448,
          "user_tz": 240,
          "elapsed": 11120,
          "user": {
            "displayName": "Daoud Piracha",
            "photoUrl": "https://lh3.googleusercontent.com/a/default-user=s128",
            "userId": "108185722932791441609"
          }
        }
      },
      "cell_type": "code",
      "source": [
        "'''Transfer learning attempt\n",
        "\n",
        "\n",
        "1 - Train a simple convnet on the MNIST dataset \n",
        "2 - Freeze convolutional layers and fine-tune dense layers\n",
        "   for the classification of digits from our dataset.\n",
        "Get to 99.8% test accuracy after 5 epochs\n",
        "for the first five digits classifier\n",
        "and 99.2% for the last five digits after transfer + fine-tuning.\n",
        "'''\n",
        "\n",
        "\n",
        "\n",
        "now = datetime.datetime.now\n",
        "\n",
        "batch_size = 128\n",
        "num_classes = 10\n",
        "epochs = 10\n",
        "\n",
        "# input image dimensions\n",
        "img_rows, img_cols = 28, 28\n",
        "# number of convolutional filters to use\n",
        "filters = 32\n",
        "# size of pooling area for max pooling\n",
        "pool_size = [3,2]\n",
        "# convolution kernel size\n",
        "kernel_size = [4,3,2]\n",
        "\n",
        "if K.image_data_format() == 'channels_first':\n",
        "    input_shape = (1, img_rows, img_cols)\n",
        "else:\n",
        "    input_shape = (img_rows, img_cols, 1)\n",
        "\n",
        "\n",
        "def train_model(model, train, test, num_classes):\n",
        "  \n",
        "    x_train = train[0].reshape((train[0].shape[0],) + input_shape)\n",
        "    x_test = test[0].reshape((test[0].shape[0],) + input_shape)\n",
        "    x_train = x_train.astype('float32')\n",
        "    x_test = x_test.astype('float32')\n",
        "    x_train /= 255\n",
        "    x_test /= 255\n",
        "    print('x_train shape:', x_train.shape)\n",
        "    print(x_train.shape[0], 'train samples')\n",
        "    print(x_test.shape[0], 'test samples')\n",
        "\n",
        "    # convert class vectors to binary class matrices\n",
        "    y_train = keras.utils.to_categorical(train[1], num_classes)\n",
        "    y_test = keras.utils.to_categorical(test[1], num_classes)\n",
        "\n",
        "    model.compile(loss='categorical_crossentropy',\n",
        "                  optimizer='adadelta',\n",
        "                  metrics=['accuracy'])\n",
        "\n",
        "    t = now()\n",
        "    model.fit(x_train, y_train,\n",
        "              batch_size=batch_size,\n",
        "              epochs=epochs,\n",
        "              verbose=1,\n",
        "              validation_data=(x_test, y_test))\n",
        "    print('Training time: %s' % (now() - t))\n",
        "    score = model.evaluate(x_test, y_test, verbose=0)\n",
        "    print('Test score:', score[0])\n",
        "    print('Test accuracy:', score[1])\n",
        "\n",
        "\n",
        "# the data, split between train and test sets\n",
        "(mnist_x_train, mnist_y_train), (mnist_x_test, mnist_y_test) = mnist.load_data()\n",
        "\n",
        "\n",
        "x_train = new_x_train_data\n",
        "y_train = train_y_wo_touching\n",
        "x_train, x_test, y_train, y_test = train_test_split(x_train, y_train, test_size=0.2, random_state=42)\n",
        "\n",
        "\n",
        "# # create two datasets one with digits below 5 and one with 5 and above\n",
        "# x_train_lt5 = x_train[y_train < 5]\n",
        "# y_train_lt5 = y_train[y_train < 5]\n",
        "# x_test_lt5 = x_test[y_test < 5]\n",
        "# y_test_lt5 = y_test[y_test < 5]\n",
        "\n",
        "# x_train_gte5 = x_train[y_train >= 5]\n",
        "# y_train_gte5 = y_train[y_train >= 5] - 5\n",
        "# x_test_gte5 = x_test[y_test >= 5]\n",
        "# y_test_gte5 = y_test[y_test >= 5] - 5\n",
        "\n",
        "# define two groups of layers: feature (convolutions) and classification (dense)\n",
        "feature_layers = [\n",
        "    Conv2D(filters, kernel_size[0],\n",
        "           padding='valid',\n",
        "           input_shape=input_shape),\n",
        "    Activation('relu'),\n",
        "    Conv2D(filters, kernel_size[1],\n",
        "           padding='valid',\n",
        "           input_shape=input_shape),\n",
        "    Activation('relu'),\n",
        "    MaxPooling2D(pool_size=pool_size[0]),\n",
        "    Dropout(0.25),\n",
        "#     Conv2D(filters, kernel_size[2]),\n",
        "#     Activation('relu'),\n",
        "#     MaxPooling2D(pool_size=pool_size[1]),\n",
        "    Dropout(0.25),\n",
        "    Flatten(),\n",
        "]\n",
        "\n",
        "classification_layers = [\n",
        "    Dense(128),\n",
        "    Activation('relu'),\n",
        "    Dropout(0.3),\n",
        "    Dense(num_classes),\n",
        "    Activation('softmax')\n",
        "]\n",
        "\n",
        "# create complete model\n",
        "model = Sequential(feature_layers + classification_layers)\n",
        "\n",
        "# train model for mnist\n",
        "train_model(model,\n",
        "            (mnist_x_train, mnist_y_train),\n",
        "            (mnist_x_test, mnist_y_test), num_classes)\n",
        "\n",
        "# freeze feature layers and rebuild model\n",
        "for l in feature_layers[2:]:\n",
        "    l.trainable = False\n",
        "\n",
        "# transfer: train dense layers for new classification task [5..9]\n",
        "train_model(model,\n",
        "            (x_train, y_train),\n",
        "            (x_test, y_test), num_classes)"
      ],
      "execution_count": 24,
      "outputs": [
        {
          "output_type": "stream",
          "text": [
            "x_train shape: (60000, 28, 28, 1)\n",
            "60000 train samples\n",
            "10000 test samples\n",
            "Train on 60000 samples, validate on 10000 samples\n",
            "Epoch 1/10\n",
            "56576/60000 [===========================>..] - ETA: 0s - loss: 0.2884 - acc: 0.9102"
          ],
          "name": "stdout"
        },
        {
          "output_type": "error",
          "ename": "KeyboardInterrupt",
          "evalue": "ignored",
          "traceback": [
            "\u001b[0;31m---------------------------------------------------------------------------\u001b[0m",
            "\u001b[0;31mKeyboardInterrupt\u001b[0m                         Traceback (most recent call last)",
            "\u001b[0;32m<ipython-input-24-013335f0f99c>\u001b[0m in \u001b[0;36m<module>\u001b[0;34m()\u001b[0m\n\u001b[1;32m    118\u001b[0m train_model(model,\n\u001b[1;32m    119\u001b[0m             \u001b[0;34m(\u001b[0m\u001b[0mmnist_x_train\u001b[0m\u001b[0;34m,\u001b[0m \u001b[0mmnist_y_train\u001b[0m\u001b[0;34m)\u001b[0m\u001b[0;34m,\u001b[0m\u001b[0;34m\u001b[0m\u001b[0m\n\u001b[0;32m--> 120\u001b[0;31m             (mnist_x_test, mnist_y_test), num_classes)\n\u001b[0m\u001b[1;32m    121\u001b[0m \u001b[0;34m\u001b[0m\u001b[0m\n\u001b[1;32m    122\u001b[0m \u001b[0;31m# freeze feature layers and rebuild model\u001b[0m\u001b[0;34m\u001b[0m\u001b[0;34m\u001b[0m\u001b[0m\n",
            "\u001b[0;32m<ipython-input-24-013335f0f99c>\u001b[0m in \u001b[0;36mtrain_model\u001b[0;34m(model, train, test, num_classes)\u001b[0m\n\u001b[1;32m     58\u001b[0m               \u001b[0mepochs\u001b[0m\u001b[0;34m=\u001b[0m\u001b[0mepochs\u001b[0m\u001b[0;34m,\u001b[0m\u001b[0;34m\u001b[0m\u001b[0m\n\u001b[1;32m     59\u001b[0m               \u001b[0mverbose\u001b[0m\u001b[0;34m=\u001b[0m\u001b[0;36m1\u001b[0m\u001b[0;34m,\u001b[0m\u001b[0;34m\u001b[0m\u001b[0m\n\u001b[0;32m---> 60\u001b[0;31m               validation_data=(x_test, y_test))\n\u001b[0m\u001b[1;32m     61\u001b[0m     \u001b[0mprint\u001b[0m\u001b[0;34m(\u001b[0m\u001b[0;34m'Training time: %s'\u001b[0m \u001b[0;34m%\u001b[0m \u001b[0;34m(\u001b[0m\u001b[0mnow\u001b[0m\u001b[0;34m(\u001b[0m\u001b[0;34m)\u001b[0m \u001b[0;34m-\u001b[0m \u001b[0mt\u001b[0m\u001b[0;34m)\u001b[0m\u001b[0;34m)\u001b[0m\u001b[0;34m\u001b[0m\u001b[0m\n\u001b[1;32m     62\u001b[0m     \u001b[0mscore\u001b[0m \u001b[0;34m=\u001b[0m \u001b[0mmodel\u001b[0m\u001b[0;34m.\u001b[0m\u001b[0mevaluate\u001b[0m\u001b[0;34m(\u001b[0m\u001b[0mx_test\u001b[0m\u001b[0;34m,\u001b[0m \u001b[0my_test\u001b[0m\u001b[0;34m,\u001b[0m \u001b[0mverbose\u001b[0m\u001b[0;34m=\u001b[0m\u001b[0;36m0\u001b[0m\u001b[0;34m)\u001b[0m\u001b[0;34m\u001b[0m\u001b[0m\n",
            "\u001b[0;32m/usr/local/lib/python3.6/dist-packages/keras/models.py\u001b[0m in \u001b[0;36mfit\u001b[0;34m(self, x, y, batch_size, epochs, verbose, callbacks, validation_split, validation_data, shuffle, class_weight, sample_weight, initial_epoch, steps_per_epoch, validation_steps, **kwargs)\u001b[0m\n\u001b[1;32m    961\u001b[0m                               \u001b[0minitial_epoch\u001b[0m\u001b[0;34m=\u001b[0m\u001b[0minitial_epoch\u001b[0m\u001b[0;34m,\u001b[0m\u001b[0;34m\u001b[0m\u001b[0m\n\u001b[1;32m    962\u001b[0m                               \u001b[0msteps_per_epoch\u001b[0m\u001b[0;34m=\u001b[0m\u001b[0msteps_per_epoch\u001b[0m\u001b[0;34m,\u001b[0m\u001b[0;34m\u001b[0m\u001b[0m\n\u001b[0;32m--> 963\u001b[0;31m                               validation_steps=validation_steps)\n\u001b[0m\u001b[1;32m    964\u001b[0m \u001b[0;34m\u001b[0m\u001b[0m\n\u001b[1;32m    965\u001b[0m     def evaluate(self, x=None, y=None,\n",
            "\u001b[0;32m/usr/local/lib/python3.6/dist-packages/keras/engine/training.py\u001b[0m in \u001b[0;36mfit\u001b[0;34m(self, x, y, batch_size, epochs, verbose, callbacks, validation_split, validation_data, shuffle, class_weight, sample_weight, initial_epoch, steps_per_epoch, validation_steps, **kwargs)\u001b[0m\n\u001b[1;32m   1703\u001b[0m                               \u001b[0minitial_epoch\u001b[0m\u001b[0;34m=\u001b[0m\u001b[0minitial_epoch\u001b[0m\u001b[0;34m,\u001b[0m\u001b[0;34m\u001b[0m\u001b[0m\n\u001b[1;32m   1704\u001b[0m                               \u001b[0msteps_per_epoch\u001b[0m\u001b[0;34m=\u001b[0m\u001b[0msteps_per_epoch\u001b[0m\u001b[0;34m,\u001b[0m\u001b[0;34m\u001b[0m\u001b[0m\n\u001b[0;32m-> 1705\u001b[0;31m                               validation_steps=validation_steps)\n\u001b[0m\u001b[1;32m   1706\u001b[0m \u001b[0;34m\u001b[0m\u001b[0m\n\u001b[1;32m   1707\u001b[0m     def evaluate(self, x=None, y=None,\n",
            "\u001b[0;32m/usr/local/lib/python3.6/dist-packages/keras/engine/training.py\u001b[0m in \u001b[0;36m_fit_loop\u001b[0;34m(self, f, ins, out_labels, batch_size, epochs, verbose, callbacks, val_f, val_ins, shuffle, callback_metrics, initial_epoch, steps_per_epoch, validation_steps)\u001b[0m\n\u001b[1;32m   1233\u001b[0m                         \u001b[0mins_batch\u001b[0m\u001b[0;34m[\u001b[0m\u001b[0mi\u001b[0m\u001b[0;34m]\u001b[0m \u001b[0;34m=\u001b[0m \u001b[0mins_batch\u001b[0m\u001b[0;34m[\u001b[0m\u001b[0mi\u001b[0m\u001b[0;34m]\u001b[0m\u001b[0;34m.\u001b[0m\u001b[0mtoarray\u001b[0m\u001b[0;34m(\u001b[0m\u001b[0;34m)\u001b[0m\u001b[0;34m\u001b[0m\u001b[0m\n\u001b[1;32m   1234\u001b[0m \u001b[0;34m\u001b[0m\u001b[0m\n\u001b[0;32m-> 1235\u001b[0;31m                     \u001b[0mouts\u001b[0m \u001b[0;34m=\u001b[0m \u001b[0mf\u001b[0m\u001b[0;34m(\u001b[0m\u001b[0mins_batch\u001b[0m\u001b[0;34m)\u001b[0m\u001b[0;34m\u001b[0m\u001b[0m\n\u001b[0m\u001b[1;32m   1236\u001b[0m                     \u001b[0;32mif\u001b[0m \u001b[0;32mnot\u001b[0m \u001b[0misinstance\u001b[0m\u001b[0;34m(\u001b[0m\u001b[0mouts\u001b[0m\u001b[0;34m,\u001b[0m \u001b[0mlist\u001b[0m\u001b[0;34m)\u001b[0m\u001b[0;34m:\u001b[0m\u001b[0;34m\u001b[0m\u001b[0m\n\u001b[1;32m   1237\u001b[0m                         \u001b[0mouts\u001b[0m \u001b[0;34m=\u001b[0m \u001b[0;34m[\u001b[0m\u001b[0mouts\u001b[0m\u001b[0;34m]\u001b[0m\u001b[0;34m\u001b[0m\u001b[0m\n",
            "\u001b[0;32m/usr/local/lib/python3.6/dist-packages/keras/backend/tensorflow_backend.py\u001b[0m in \u001b[0;36m__call__\u001b[0;34m(self, inputs)\u001b[0m\n\u001b[1;32m   2476\u001b[0m         \u001b[0msession\u001b[0m \u001b[0;34m=\u001b[0m \u001b[0mget_session\u001b[0m\u001b[0;34m(\u001b[0m\u001b[0;34m)\u001b[0m\u001b[0;34m\u001b[0m\u001b[0m\n\u001b[1;32m   2477\u001b[0m         updated = session.run(fetches=fetches, feed_dict=feed_dict,\n\u001b[0;32m-> 2478\u001b[0;31m                               **self.session_kwargs)\n\u001b[0m\u001b[1;32m   2479\u001b[0m         \u001b[0;32mreturn\u001b[0m \u001b[0mupdated\u001b[0m\u001b[0;34m[\u001b[0m\u001b[0;34m:\u001b[0m\u001b[0mlen\u001b[0m\u001b[0;34m(\u001b[0m\u001b[0mself\u001b[0m\u001b[0;34m.\u001b[0m\u001b[0moutputs\u001b[0m\u001b[0;34m)\u001b[0m\u001b[0;34m]\u001b[0m\u001b[0;34m\u001b[0m\u001b[0m\n\u001b[1;32m   2480\u001b[0m \u001b[0;34m\u001b[0m\u001b[0m\n",
            "\u001b[0;32m/usr/local/lib/python3.6/dist-packages/tensorflow/python/client/session.py\u001b[0m in \u001b[0;36mrun\u001b[0;34m(self, fetches, feed_dict, options, run_metadata)\u001b[0m\n\u001b[1;32m    903\u001b[0m     \u001b[0;32mtry\u001b[0m\u001b[0;34m:\u001b[0m\u001b[0;34m\u001b[0m\u001b[0m\n\u001b[1;32m    904\u001b[0m       result = self._run(None, fetches, feed_dict, options_ptr,\n\u001b[0;32m--> 905\u001b[0;31m                          run_metadata_ptr)\n\u001b[0m\u001b[1;32m    906\u001b[0m       \u001b[0;32mif\u001b[0m \u001b[0mrun_metadata\u001b[0m\u001b[0;34m:\u001b[0m\u001b[0;34m\u001b[0m\u001b[0m\n\u001b[1;32m    907\u001b[0m         \u001b[0mproto_data\u001b[0m \u001b[0;34m=\u001b[0m \u001b[0mtf_session\u001b[0m\u001b[0;34m.\u001b[0m\u001b[0mTF_GetBuffer\u001b[0m\u001b[0;34m(\u001b[0m\u001b[0mrun_metadata_ptr\u001b[0m\u001b[0;34m)\u001b[0m\u001b[0;34m\u001b[0m\u001b[0m\n",
            "\u001b[0;32m/usr/local/lib/python3.6/dist-packages/tensorflow/python/client/session.py\u001b[0m in \u001b[0;36m_run\u001b[0;34m(self, handle, fetches, feed_dict, options, run_metadata)\u001b[0m\n\u001b[1;32m   1138\u001b[0m     \u001b[0;32melse\u001b[0m\u001b[0;34m:\u001b[0m\u001b[0;34m\u001b[0m\u001b[0m\n\u001b[1;32m   1139\u001b[0m       \u001b[0mresults\u001b[0m \u001b[0;34m=\u001b[0m \u001b[0;34m[\u001b[0m\u001b[0;34m]\u001b[0m\u001b[0;34m\u001b[0m\u001b[0m\n\u001b[0;32m-> 1140\u001b[0;31m     \u001b[0;32mreturn\u001b[0m \u001b[0mfetch_handler\u001b[0m\u001b[0;34m.\u001b[0m\u001b[0mbuild_results\u001b[0m\u001b[0;34m(\u001b[0m\u001b[0mself\u001b[0m\u001b[0;34m,\u001b[0m \u001b[0mresults\u001b[0m\u001b[0;34m)\u001b[0m\u001b[0;34m\u001b[0m\u001b[0m\n\u001b[0m\u001b[1;32m   1141\u001b[0m \u001b[0;34m\u001b[0m\u001b[0m\n\u001b[1;32m   1142\u001b[0m   \u001b[0;32mdef\u001b[0m \u001b[0mmake_callable\u001b[0m\u001b[0;34m(\u001b[0m\u001b[0mself\u001b[0m\u001b[0;34m,\u001b[0m \u001b[0mfetches\u001b[0m\u001b[0;34m,\u001b[0m \u001b[0mfeed_list\u001b[0m\u001b[0;34m=\u001b[0m\u001b[0;32mNone\u001b[0m\u001b[0;34m,\u001b[0m \u001b[0maccept_options\u001b[0m\u001b[0;34m=\u001b[0m\u001b[0;32mFalse\u001b[0m\u001b[0;34m)\u001b[0m\u001b[0;34m:\u001b[0m\u001b[0;34m\u001b[0m\u001b[0m\n",
            "\u001b[0;32m/usr/local/lib/python3.6/dist-packages/tensorflow/python/client/session.py\u001b[0m in \u001b[0;36mbuild_results\u001b[0;34m(self, session, tensor_values)\u001b[0m\n\u001b[1;32m    507\u001b[0m         \u001b[0;32mif\u001b[0m \u001b[0mvalue\u001b[0m \u001b[0;32mis\u001b[0m \u001b[0;32mNone\u001b[0m\u001b[0;34m:\u001b[0m\u001b[0;34m\u001b[0m\u001b[0m\n\u001b[1;32m    508\u001b[0m           \u001b[0mvalue\u001b[0m \u001b[0;34m=\u001b[0m \u001b[0mtensor_values\u001b[0m\u001b[0;34m[\u001b[0m\u001b[0mj\u001b[0m\u001b[0;34m]\u001b[0m\u001b[0;34m\u001b[0m\u001b[0m\n\u001b[0;32m--> 509\u001b[0;31m           \u001b[0mj\u001b[0m \u001b[0;34m+=\u001b[0m \u001b[0;36m1\u001b[0m\u001b[0;34m\u001b[0m\u001b[0m\n\u001b[0m\u001b[1;32m    510\u001b[0m         \u001b[0mdtype\u001b[0m \u001b[0;34m=\u001b[0m \u001b[0mself\u001b[0m\u001b[0;34m.\u001b[0m\u001b[0m_fetch_handles\u001b[0m\u001b[0;34m.\u001b[0m\u001b[0mget\u001b[0m\u001b[0;34m(\u001b[0m\u001b[0mself\u001b[0m\u001b[0;34m.\u001b[0m\u001b[0m_fetches\u001b[0m\u001b[0;34m[\u001b[0m\u001b[0mi\u001b[0m\u001b[0;34m]\u001b[0m\u001b[0;34m)\u001b[0m\u001b[0;34m\u001b[0m\u001b[0m\n\u001b[1;32m    511\u001b[0m         \u001b[0;32mif\u001b[0m \u001b[0mdtype\u001b[0m\u001b[0;34m:\u001b[0m\u001b[0;34m\u001b[0m\u001b[0m\n",
            "\u001b[0;31mKeyboardInterrupt\u001b[0m: "
          ]
        }
      ]
    },
    {
      "metadata": {
        "id": "k-KEwE6lYoHZ",
        "colab_type": "text"
      },
      "cell_type": "markdown",
      "source": [
        "## Simple CNN "
      ]
    },
    {
      "metadata": {
        "id": "lMN1bJ03nnpm",
        "colab_type": "code",
        "colab": {
          "autoexec": {
            "startup": false,
            "wait_interval": 0
          },
          "output_extras": [
            {
              "item_id": 23
            },
            {
              "item_id": 24
            }
          ],
          "base_uri": "https://localhost:8080/",
          "height": 1442
        },
        "outputId": "67547856-0a8f-4c1d-f3c9-a95dfa966876",
        "executionInfo": {
          "status": "error",
          "timestamp": 1521687513126,
          "user_tz": 240,
          "elapsed": 6976,
          "user": {
            "displayName": "Daoud Piracha",
            "photoUrl": "https://lh3.googleusercontent.com/a/default-user=s128",
            "userId": "108185722932791441609"
          }
        }
      },
      "cell_type": "code",
      "source": [
        "'''Trains a simple convnet on the dataset.\n",
        "'''\n",
        "from __future__ import print_function\n",
        "import keras\n",
        "from keras.datasets import mnist\n",
        "from keras.models import Sequential\n",
        "from keras.layers import Dense, Dropout, Flatten\n",
        "from keras.layers import Conv2D, MaxPooling2D\n",
        "from keras import backend as K\n",
        "\n",
        "from sklearn.model_selection import train_test_split\n",
        "\n",
        "batch_size = 64\n",
        "num_classes = 10\n",
        "epochs = 16\n",
        "\n",
        "# input image dimensions\n",
        "img_rows, img_cols = 28, 28\n",
        "\n",
        "# the data, split between train and test sets\n",
        "x_train = new_x_train_data\n",
        "y_train = train_y_wo_touching\n",
        "x_train, x_test, y_train, y_test = train_test_split(x_train, y_train, test_size=0.2, random_state=42)\n",
        "\n",
        "if K.image_data_format() == 'channels_first':\n",
        "    x_train = x_train.reshape(x_train.shape[0], 1, img_rows, img_cols)\n",
        "    x_test = x_test.reshape(x_test.shape[0], 1, img_rows, img_cols)\n",
        "    input_shape = (1, img_rows, img_cols)\n",
        "else:\n",
        "    x_train = x_train.reshape(x_train.shape[0], img_rows, img_cols, 1)\n",
        "    x_test = x_test.reshape(x_test.shape[0], img_rows, img_cols, 1)\n",
        "    input_shape = (img_rows, img_cols, 1)\n",
        "\n",
        "x_train = x_train.astype('float32')\n",
        "x_test = x_test.astype('float32')\n",
        "x_train /= 255\n",
        "x_test /= 255\n",
        "print('x_train shape:', x_train.shape)\n",
        "print(x_train.shape[0], 'train samples')\n",
        "print(x_test.shape[0], 'test samples')\n",
        "print(x_train[0].reshape( img_rows, img_cols).shape)\n",
        "\n",
        "\n",
        "# example way of showing \n",
        "# plt.imshow(x_train[0].reshape(img_rows, img_cols),cmap='gray')\n",
        "# plt.show()\n",
        "\n",
        "# convert class vectors to binary class matrices\n",
        "y_train = keras.utils.to_categorical(y_train, num_classes)\n",
        "y_test = keras.utils.to_categorical(y_test, num_classes)\n",
        "\n",
        "model = Sequential()\n",
        "model.add(Conv2D(32, kernel_size=(3, 3),\n",
        "                 activation='relu',\n",
        "                 input_shape=input_shape))\n",
        "model.add(Conv2D(64, (3, 3), activation='relu'))\n",
        "model.add(MaxPooling2D(pool_size=(2, 2)))\n",
        "model.add(Dropout(0.25))\n",
        "model.add(Flatten())\n",
        "model.add(Dense(128, activation='relu'))\n",
        "model.add(Dropout(0.5))\n",
        "model.add(Dense(num_classes, activation='softmax'))\n",
        "\n",
        "model.compile(loss=keras.losses.categorical_crossentropy,\n",
        "              optimizer=keras.optimizers.Adadelta(),\n",
        "              metrics=['accuracy'])\n",
        "\n",
        "model.fit(x_train, y_train,\n",
        "          batch_size=batch_size,\n",
        "          epochs=epochs,\n",
        "          verbose=1,\n",
        "          validation_data=(x_test, y_test))\n",
        "score = model.evaluate(x_test, y_test, verbose=0)\n",
        "print('Test loss:', score[0])\n",
        "print('Test accuracy:', score[1])"
      ],
      "execution_count": 25,
      "outputs": [
        {
          "output_type": "stream",
          "text": [
            "x_train shape: (39862, 28, 28, 1)\n",
            "39862 train samples\n",
            "9966 test samples\n",
            "(28, 28)\n",
            "Train on 39862 samples, validate on 9966 samples\n",
            "Epoch 1/16\n",
            "21760/39862 [===============>..............] - ETA: 4s - loss: 0.9045 - acc: 0.7183"
          ],
          "name": "stdout"
        },
        {
          "output_type": "error",
          "ename": "KeyboardInterrupt",
          "evalue": "ignored",
          "traceback": [
            "\u001b[0;31m---------------------------------------------------------------------------\u001b[0m",
            "\u001b[0;31mKeyboardInterrupt\u001b[0m                         Traceback (most recent call last)",
            "\u001b[0;32m<ipython-input-25-37272cb950c8>\u001b[0m in \u001b[0;36m<module>\u001b[0;34m()\u001b[0m\n\u001b[1;32m     70\u001b[0m           \u001b[0mepochs\u001b[0m\u001b[0;34m=\u001b[0m\u001b[0mepochs\u001b[0m\u001b[0;34m,\u001b[0m\u001b[0;34m\u001b[0m\u001b[0m\n\u001b[1;32m     71\u001b[0m           \u001b[0mverbose\u001b[0m\u001b[0;34m=\u001b[0m\u001b[0;36m1\u001b[0m\u001b[0;34m,\u001b[0m\u001b[0;34m\u001b[0m\u001b[0m\n\u001b[0;32m---> 72\u001b[0;31m           validation_data=(x_test, y_test))\n\u001b[0m\u001b[1;32m     73\u001b[0m \u001b[0mscore\u001b[0m \u001b[0;34m=\u001b[0m \u001b[0mmodel\u001b[0m\u001b[0;34m.\u001b[0m\u001b[0mevaluate\u001b[0m\u001b[0;34m(\u001b[0m\u001b[0mx_test\u001b[0m\u001b[0;34m,\u001b[0m \u001b[0my_test\u001b[0m\u001b[0;34m,\u001b[0m \u001b[0mverbose\u001b[0m\u001b[0;34m=\u001b[0m\u001b[0;36m0\u001b[0m\u001b[0;34m)\u001b[0m\u001b[0;34m\u001b[0m\u001b[0m\n\u001b[1;32m     74\u001b[0m \u001b[0mprint\u001b[0m\u001b[0;34m(\u001b[0m\u001b[0;34m'Test loss:'\u001b[0m\u001b[0;34m,\u001b[0m \u001b[0mscore\u001b[0m\u001b[0;34m[\u001b[0m\u001b[0;36m0\u001b[0m\u001b[0;34m]\u001b[0m\u001b[0;34m)\u001b[0m\u001b[0;34m\u001b[0m\u001b[0m\n",
            "\u001b[0;32m/usr/local/lib/python3.6/dist-packages/keras/models.py\u001b[0m in \u001b[0;36mfit\u001b[0;34m(self, x, y, batch_size, epochs, verbose, callbacks, validation_split, validation_data, shuffle, class_weight, sample_weight, initial_epoch, steps_per_epoch, validation_steps, **kwargs)\u001b[0m\n\u001b[1;32m    961\u001b[0m                               \u001b[0minitial_epoch\u001b[0m\u001b[0;34m=\u001b[0m\u001b[0minitial_epoch\u001b[0m\u001b[0;34m,\u001b[0m\u001b[0;34m\u001b[0m\u001b[0m\n\u001b[1;32m    962\u001b[0m                               \u001b[0msteps_per_epoch\u001b[0m\u001b[0;34m=\u001b[0m\u001b[0msteps_per_epoch\u001b[0m\u001b[0;34m,\u001b[0m\u001b[0;34m\u001b[0m\u001b[0m\n\u001b[0;32m--> 963\u001b[0;31m                               validation_steps=validation_steps)\n\u001b[0m\u001b[1;32m    964\u001b[0m \u001b[0;34m\u001b[0m\u001b[0m\n\u001b[1;32m    965\u001b[0m     def evaluate(self, x=None, y=None,\n",
            "\u001b[0;32m/usr/local/lib/python3.6/dist-packages/keras/engine/training.py\u001b[0m in \u001b[0;36mfit\u001b[0;34m(self, x, y, batch_size, epochs, verbose, callbacks, validation_split, validation_data, shuffle, class_weight, sample_weight, initial_epoch, steps_per_epoch, validation_steps, **kwargs)\u001b[0m\n\u001b[1;32m   1703\u001b[0m                               \u001b[0minitial_epoch\u001b[0m\u001b[0;34m=\u001b[0m\u001b[0minitial_epoch\u001b[0m\u001b[0;34m,\u001b[0m\u001b[0;34m\u001b[0m\u001b[0m\n\u001b[1;32m   1704\u001b[0m                               \u001b[0msteps_per_epoch\u001b[0m\u001b[0;34m=\u001b[0m\u001b[0msteps_per_epoch\u001b[0m\u001b[0;34m,\u001b[0m\u001b[0;34m\u001b[0m\u001b[0m\n\u001b[0;32m-> 1705\u001b[0;31m                               validation_steps=validation_steps)\n\u001b[0m\u001b[1;32m   1706\u001b[0m \u001b[0;34m\u001b[0m\u001b[0m\n\u001b[1;32m   1707\u001b[0m     def evaluate(self, x=None, y=None,\n",
            "\u001b[0;32m/usr/local/lib/python3.6/dist-packages/keras/engine/training.py\u001b[0m in \u001b[0;36m_fit_loop\u001b[0;34m(self, f, ins, out_labels, batch_size, epochs, verbose, callbacks, val_f, val_ins, shuffle, callback_metrics, initial_epoch, steps_per_epoch, validation_steps)\u001b[0m\n\u001b[1;32m   1233\u001b[0m                         \u001b[0mins_batch\u001b[0m\u001b[0;34m[\u001b[0m\u001b[0mi\u001b[0m\u001b[0;34m]\u001b[0m \u001b[0;34m=\u001b[0m \u001b[0mins_batch\u001b[0m\u001b[0;34m[\u001b[0m\u001b[0mi\u001b[0m\u001b[0;34m]\u001b[0m\u001b[0;34m.\u001b[0m\u001b[0mtoarray\u001b[0m\u001b[0;34m(\u001b[0m\u001b[0;34m)\u001b[0m\u001b[0;34m\u001b[0m\u001b[0m\n\u001b[1;32m   1234\u001b[0m \u001b[0;34m\u001b[0m\u001b[0m\n\u001b[0;32m-> 1235\u001b[0;31m                     \u001b[0mouts\u001b[0m \u001b[0;34m=\u001b[0m \u001b[0mf\u001b[0m\u001b[0;34m(\u001b[0m\u001b[0mins_batch\u001b[0m\u001b[0;34m)\u001b[0m\u001b[0;34m\u001b[0m\u001b[0m\n\u001b[0m\u001b[1;32m   1236\u001b[0m                     \u001b[0;32mif\u001b[0m \u001b[0;32mnot\u001b[0m \u001b[0misinstance\u001b[0m\u001b[0;34m(\u001b[0m\u001b[0mouts\u001b[0m\u001b[0;34m,\u001b[0m \u001b[0mlist\u001b[0m\u001b[0;34m)\u001b[0m\u001b[0;34m:\u001b[0m\u001b[0;34m\u001b[0m\u001b[0m\n\u001b[1;32m   1237\u001b[0m                         \u001b[0mouts\u001b[0m \u001b[0;34m=\u001b[0m \u001b[0;34m[\u001b[0m\u001b[0mouts\u001b[0m\u001b[0;34m]\u001b[0m\u001b[0;34m\u001b[0m\u001b[0m\n",
            "\u001b[0;32m/usr/local/lib/python3.6/dist-packages/keras/backend/tensorflow_backend.py\u001b[0m in \u001b[0;36m__call__\u001b[0;34m(self, inputs)\u001b[0m\n\u001b[1;32m   2476\u001b[0m         \u001b[0msession\u001b[0m \u001b[0;34m=\u001b[0m \u001b[0mget_session\u001b[0m\u001b[0;34m(\u001b[0m\u001b[0;34m)\u001b[0m\u001b[0;34m\u001b[0m\u001b[0m\n\u001b[1;32m   2477\u001b[0m         updated = session.run(fetches=fetches, feed_dict=feed_dict,\n\u001b[0;32m-> 2478\u001b[0;31m                               **self.session_kwargs)\n\u001b[0m\u001b[1;32m   2479\u001b[0m         \u001b[0;32mreturn\u001b[0m \u001b[0mupdated\u001b[0m\u001b[0;34m[\u001b[0m\u001b[0;34m:\u001b[0m\u001b[0mlen\u001b[0m\u001b[0;34m(\u001b[0m\u001b[0mself\u001b[0m\u001b[0;34m.\u001b[0m\u001b[0moutputs\u001b[0m\u001b[0;34m)\u001b[0m\u001b[0;34m]\u001b[0m\u001b[0;34m\u001b[0m\u001b[0m\n\u001b[1;32m   2480\u001b[0m \u001b[0;34m\u001b[0m\u001b[0m\n",
            "\u001b[0;32m/usr/local/lib/python3.6/dist-packages/tensorflow/python/client/session.py\u001b[0m in \u001b[0;36mrun\u001b[0;34m(self, fetches, feed_dict, options, run_metadata)\u001b[0m\n\u001b[1;32m    903\u001b[0m     \u001b[0;32mtry\u001b[0m\u001b[0;34m:\u001b[0m\u001b[0;34m\u001b[0m\u001b[0m\n\u001b[1;32m    904\u001b[0m       result = self._run(None, fetches, feed_dict, options_ptr,\n\u001b[0;32m--> 905\u001b[0;31m                          run_metadata_ptr)\n\u001b[0m\u001b[1;32m    906\u001b[0m       \u001b[0;32mif\u001b[0m \u001b[0mrun_metadata\u001b[0m\u001b[0;34m:\u001b[0m\u001b[0;34m\u001b[0m\u001b[0m\n\u001b[1;32m    907\u001b[0m         \u001b[0mproto_data\u001b[0m \u001b[0;34m=\u001b[0m \u001b[0mtf_session\u001b[0m\u001b[0;34m.\u001b[0m\u001b[0mTF_GetBuffer\u001b[0m\u001b[0;34m(\u001b[0m\u001b[0mrun_metadata_ptr\u001b[0m\u001b[0;34m)\u001b[0m\u001b[0;34m\u001b[0m\u001b[0m\n",
            "\u001b[0;32m/usr/local/lib/python3.6/dist-packages/tensorflow/python/client/session.py\u001b[0m in \u001b[0;36m_run\u001b[0;34m(self, handle, fetches, feed_dict, options, run_metadata)\u001b[0m\n\u001b[1;32m   1135\u001b[0m     \u001b[0;32mif\u001b[0m \u001b[0mfinal_fetches\u001b[0m \u001b[0;32mor\u001b[0m \u001b[0mfinal_targets\u001b[0m \u001b[0;32mor\u001b[0m \u001b[0;34m(\u001b[0m\u001b[0mhandle\u001b[0m \u001b[0;32mand\u001b[0m \u001b[0mfeed_dict_tensor\u001b[0m\u001b[0;34m)\u001b[0m\u001b[0;34m:\u001b[0m\u001b[0;34m\u001b[0m\u001b[0m\n\u001b[1;32m   1136\u001b[0m       results = self._do_run(handle, final_targets, final_fetches,\n\u001b[0;32m-> 1137\u001b[0;31m                              feed_dict_tensor, options, run_metadata)\n\u001b[0m\u001b[1;32m   1138\u001b[0m     \u001b[0;32melse\u001b[0m\u001b[0;34m:\u001b[0m\u001b[0;34m\u001b[0m\u001b[0m\n\u001b[1;32m   1139\u001b[0m       \u001b[0mresults\u001b[0m \u001b[0;34m=\u001b[0m \u001b[0;34m[\u001b[0m\u001b[0;34m]\u001b[0m\u001b[0;34m\u001b[0m\u001b[0m\n",
            "\u001b[0;32m/usr/local/lib/python3.6/dist-packages/tensorflow/python/client/session.py\u001b[0m in \u001b[0;36m_do_run\u001b[0;34m(self, handle, target_list, fetch_list, feed_dict, options, run_metadata)\u001b[0m\n\u001b[1;32m   1353\u001b[0m     \u001b[0;32mif\u001b[0m \u001b[0mhandle\u001b[0m \u001b[0;32mis\u001b[0m \u001b[0;32mNone\u001b[0m\u001b[0;34m:\u001b[0m\u001b[0;34m\u001b[0m\u001b[0m\n\u001b[1;32m   1354\u001b[0m       return self._do_call(_run_fn, self._session, feeds, fetches, targets,\n\u001b[0;32m-> 1355\u001b[0;31m                            options, run_metadata)\n\u001b[0m\u001b[1;32m   1356\u001b[0m     \u001b[0;32melse\u001b[0m\u001b[0;34m:\u001b[0m\u001b[0;34m\u001b[0m\u001b[0m\n\u001b[1;32m   1357\u001b[0m       \u001b[0;32mreturn\u001b[0m \u001b[0mself\u001b[0m\u001b[0;34m.\u001b[0m\u001b[0m_do_call\u001b[0m\u001b[0;34m(\u001b[0m\u001b[0m_prun_fn\u001b[0m\u001b[0;34m,\u001b[0m \u001b[0mself\u001b[0m\u001b[0;34m.\u001b[0m\u001b[0m_session\u001b[0m\u001b[0;34m,\u001b[0m \u001b[0mhandle\u001b[0m\u001b[0;34m,\u001b[0m \u001b[0mfeeds\u001b[0m\u001b[0;34m,\u001b[0m \u001b[0mfetches\u001b[0m\u001b[0;34m)\u001b[0m\u001b[0;34m\u001b[0m\u001b[0m\n",
            "\u001b[0;32m/usr/local/lib/python3.6/dist-packages/tensorflow/python/client/session.py\u001b[0m in \u001b[0;36m_do_call\u001b[0;34m(self, fn, *args)\u001b[0m\n\u001b[1;32m   1359\u001b[0m   \u001b[0;32mdef\u001b[0m \u001b[0m_do_call\u001b[0m\u001b[0;34m(\u001b[0m\u001b[0mself\u001b[0m\u001b[0;34m,\u001b[0m \u001b[0mfn\u001b[0m\u001b[0;34m,\u001b[0m \u001b[0;34m*\u001b[0m\u001b[0margs\u001b[0m\u001b[0;34m)\u001b[0m\u001b[0;34m:\u001b[0m\u001b[0;34m\u001b[0m\u001b[0m\n\u001b[1;32m   1360\u001b[0m     \u001b[0;32mtry\u001b[0m\u001b[0;34m:\u001b[0m\u001b[0;34m\u001b[0m\u001b[0m\n\u001b[0;32m-> 1361\u001b[0;31m       \u001b[0;32mreturn\u001b[0m \u001b[0mfn\u001b[0m\u001b[0;34m(\u001b[0m\u001b[0;34m*\u001b[0m\u001b[0margs\u001b[0m\u001b[0;34m)\u001b[0m\u001b[0;34m\u001b[0m\u001b[0m\n\u001b[0m\u001b[1;32m   1362\u001b[0m     \u001b[0;32mexcept\u001b[0m \u001b[0merrors\u001b[0m\u001b[0;34m.\u001b[0m\u001b[0mOpError\u001b[0m \u001b[0;32mas\u001b[0m \u001b[0me\u001b[0m\u001b[0;34m:\u001b[0m\u001b[0;34m\u001b[0m\u001b[0m\n\u001b[1;32m   1363\u001b[0m       \u001b[0mmessage\u001b[0m \u001b[0;34m=\u001b[0m \u001b[0mcompat\u001b[0m\u001b[0;34m.\u001b[0m\u001b[0mas_text\u001b[0m\u001b[0;34m(\u001b[0m\u001b[0me\u001b[0m\u001b[0;34m.\u001b[0m\u001b[0mmessage\u001b[0m\u001b[0;34m)\u001b[0m\u001b[0;34m\u001b[0m\u001b[0m\n",
            "\u001b[0;32m/usr/local/lib/python3.6/dist-packages/tensorflow/python/client/session.py\u001b[0m in \u001b[0;36m_run_fn\u001b[0;34m(session, feed_dict, fetch_list, target_list, options, run_metadata)\u001b[0m\n\u001b[1;32m   1338\u001b[0m         \u001b[0;32melse\u001b[0m\u001b[0;34m:\u001b[0m\u001b[0;34m\u001b[0m\u001b[0m\n\u001b[1;32m   1339\u001b[0m           return tf_session.TF_Run(session, options, feed_dict, fetch_list,\n\u001b[0;32m-> 1340\u001b[0;31m                                    target_list, status, run_metadata)\n\u001b[0m\u001b[1;32m   1341\u001b[0m \u001b[0;34m\u001b[0m\u001b[0m\n\u001b[1;32m   1342\u001b[0m     \u001b[0;32mdef\u001b[0m \u001b[0m_prun_fn\u001b[0m\u001b[0;34m(\u001b[0m\u001b[0msession\u001b[0m\u001b[0;34m,\u001b[0m \u001b[0mhandle\u001b[0m\u001b[0;34m,\u001b[0m \u001b[0mfeed_dict\u001b[0m\u001b[0;34m,\u001b[0m \u001b[0mfetch_list\u001b[0m\u001b[0;34m)\u001b[0m\u001b[0;34m:\u001b[0m\u001b[0;34m\u001b[0m\u001b[0m\n",
            "\u001b[0;31mKeyboardInterrupt\u001b[0m: "
          ]
        }
      ]
    },
    {
      "metadata": {
        "id": "Ow5Mokp6Yjvd",
        "colab_type": "text"
      },
      "cell_type": "markdown",
      "source": [
        "## Cross validation"
      ]
    },
    {
      "metadata": {
        "id": "-bEa_RsPXlTr",
        "colab_type": "code",
        "colab": {
          "autoexec": {
            "startup": false,
            "wait_interval": 0
          }
        }
      },
      "cell_type": "code",
      "source": [
        "def create_model(dropout = 0.2, optimizer=Adam() ,activation_fct = 'relu'):\n",
        "  \n",
        "  model = Sequential()\n",
        "  model.add(Conv2D(32, kernel_size=(3, 3),\n",
        "                   activation=activation_fct,\n",
        "                   input_shape=(28,28,1)))\n",
        "  model.add(Conv2D(64, (3, 3), activation=activation_fct))\n",
        "  model.add(MaxPooling2D(pool_size=(2, 2)))\n",
        "  model.add(Dropout(dropout))\n",
        "  model.add(Flatten())\n",
        "  model.add(Dense(128, activation=activation_fct))\n",
        "  model.add(Dropout(dropout))\n",
        "  model.add(Dense(num_classes, activation='softmax')) #last layer activation is always softmax\n",
        "\n",
        "  model.compile(loss=keras.losses.categorical_crossentropy,\n",
        "                optimizer=optimizer,\n",
        "                metrics=['accuracy'])\n",
        "  return model"
      ],
      "execution_count": 0,
      "outputs": []
    },
    {
      "metadata": {
        "id": "3XBEz16RXnBp",
        "colab_type": "code",
        "colab": {
          "autoexec": {
            "startup": false,
            "wait_interval": 0
          },
          "output_extras": [
            {
              "item_id": 1
            },
            {
              "item_id": 2
            }
          ],
          "base_uri": "https://localhost:8080/",
          "height": 249
        },
        "outputId": "1ed575a7-232a-4451-b79f-63a89b313724",
        "executionInfo": {
          "status": "error",
          "timestamp": 1521687613026,
          "user_tz": 240,
          "elapsed": 91074,
          "user": {
            "displayName": "Daoud Piracha",
            "photoUrl": "https://lh3.googleusercontent.com/a/default-user=s128",
            "userId": "108185722932791441609"
          }
        }
      },
      "cell_type": "code",
      "source": [
        "seed = 7\n",
        "\n",
        "num_classes = 10\n",
        "img_rows, img_cols = 28, 28\n",
        "input_shape = (img_rows, img_cols, 1)\n",
        "num_classes = 10\n",
        "\n",
        "x_train = new_x_train_data\n",
        "y_train = train_y_wo_touching\n",
        "\n",
        "x_train, x_test, y_train, y_test = train_test_split(x_train, y_train, \n",
        "                                                    test_size=0.33, random_state=42)\n",
        "\n",
        "\n",
        "# format X data correctly\n",
        "x_train = x_train.reshape(x_train.shape[0], img_rows, img_cols, 1)\n",
        "x_test = x_test.reshape(x_test.shape[0], img_rows, img_cols, 1)\n",
        "x_train = x_train.astype('float32')\n",
        "x_test = x_test.astype('float32')\n",
        "x_train /= 255\n",
        "x_test /= 255\n",
        "\n",
        "# one hot encoding of y\n",
        "y_train = keras.utils.to_categorical(y_train, num_classes)\n",
        "y_test = keras.utils.to_categorical(y_test, num_classes)\n",
        "\n",
        "print(x_train.shape, y_train.shape)\n",
        "print(y_test.shape,x_test.shape)\n",
        "\n",
        "epochs = [5,10,15]\n",
        "batch_size = [50,64,100]\n",
        "dropout =[0.2,0.3,0.5]\n",
        "activation = ['relu','sigmoid']\n",
        "optimizer = [Adadelta(),Adam()]\n",
        "\n",
        "# one example of the way we did hyperparameter tuning using (here for epochs) \n",
        "for e in epochs:\n",
        "  # create model\n",
        "  model = KerasClassifier(build_fn=create_model, epochs=e, \n",
        "                          batch_size=64, verbose=0)\n",
        "  \n",
        "  # impliment cross validation\n",
        "  cv = ShuffleSplit(n_splits=3, test_size=0.2, random_state=seed)\n",
        "  # get cross val scores\n",
        "  scores = cross_val_score(model, x_train, y_train, cv=cv)\n",
        "  # print scores\n",
        "  print(\"feature value is: {0}\".format(d))\n",
        "  print(\"Accuracy: %0.2f (+/- %0.2f)\" % (scores.mean(), scores.std() * 2))"
      ],
      "execution_count": 27,
      "outputs": [
        {
          "output_type": "stream",
          "text": [
            "(33384, 28, 28, 1) (33384, 10)\n",
            "(16444, 10) (16444, 28, 28, 1)\n"
          ],
          "name": "stdout"
        },
        {
          "output_type": "error",
          "ename": "NameError",
          "evalue": "ignored",
          "traceback": [
            "\u001b[0;31m---------------------------------------------------------------------------\u001b[0m",
            "\u001b[0;31mNameError\u001b[0m                                 Traceback (most recent call last)",
            "\u001b[0;32m<ipython-input-27-fcd8410db1be>\u001b[0m in \u001b[0;36m<module>\u001b[0;34m()\u001b[0m\n\u001b[1;32m     45\u001b[0m   \u001b[0mscores\u001b[0m \u001b[0;34m=\u001b[0m \u001b[0mcross_val_score\u001b[0m\u001b[0;34m(\u001b[0m\u001b[0mmodel\u001b[0m\u001b[0;34m,\u001b[0m \u001b[0mx_train\u001b[0m\u001b[0;34m,\u001b[0m \u001b[0my_train\u001b[0m\u001b[0;34m,\u001b[0m \u001b[0mcv\u001b[0m\u001b[0;34m=\u001b[0m\u001b[0mcv\u001b[0m\u001b[0;34m)\u001b[0m\u001b[0;34m\u001b[0m\u001b[0m\n\u001b[1;32m     46\u001b[0m   \u001b[0;31m# print scores\u001b[0m\u001b[0;34m\u001b[0m\u001b[0;34m\u001b[0m\u001b[0m\n\u001b[0;32m---> 47\u001b[0;31m   \u001b[0mprint\u001b[0m\u001b[0;34m(\u001b[0m\u001b[0;34m\"feature value is: {0}\"\u001b[0m\u001b[0;34m.\u001b[0m\u001b[0mformat\u001b[0m\u001b[0;34m(\u001b[0m\u001b[0md\u001b[0m\u001b[0;34m)\u001b[0m\u001b[0;34m)\u001b[0m\u001b[0;34m\u001b[0m\u001b[0m\n\u001b[0m\u001b[1;32m     48\u001b[0m   \u001b[0mprint\u001b[0m\u001b[0;34m(\u001b[0m\u001b[0;34m\"Accuracy: %0.2f (+/- %0.2f)\"\u001b[0m \u001b[0;34m%\u001b[0m \u001b[0;34m(\u001b[0m\u001b[0mscores\u001b[0m\u001b[0;34m.\u001b[0m\u001b[0mmean\u001b[0m\u001b[0;34m(\u001b[0m\u001b[0;34m)\u001b[0m\u001b[0;34m,\u001b[0m \u001b[0mscores\u001b[0m\u001b[0;34m.\u001b[0m\u001b[0mstd\u001b[0m\u001b[0;34m(\u001b[0m\u001b[0;34m)\u001b[0m \u001b[0;34m*\u001b[0m \u001b[0;36m2\u001b[0m\u001b[0;34m)\u001b[0m\u001b[0;34m)\u001b[0m\u001b[0;34m\u001b[0m\u001b[0m\n",
            "\u001b[0;31mNameError\u001b[0m: name 'd' is not defined"
          ]
        }
      ]
    },
    {
      "metadata": {
        "id": "bUYY2Svhi5uo",
        "colab_type": "text"
      },
      "cell_type": "markdown",
      "source": [
        "## SVM with preprocessed data"
      ]
    },
    {
      "metadata": {
        "id": "KwreSZU2ygte",
        "colab_type": "code",
        "colab": {
          "autoexec": {
            "startup": false,
            "wait_interval": 0
          }
        }
      },
      "cell_type": "code",
      "source": [
        "def flatten_data(data):\n",
        "  ''' list of data to flatten \n",
        "      example of change: (40 000 entries,28,28) ----> (40 000 entries,28x28=784)\n",
        "  '''\n",
        "  new_data = []\n",
        "  for entry in data:\n",
        "    new_data.append(entry.flatten())\n",
        "    \n",
        "  return np.asarray(new_data)"
      ],
      "execution_count": 0,
      "outputs": []
    },
    {
      "metadata": {
        "id": "D2druev9y-I5",
        "colab_type": "code",
        "colab": {
          "autoexec": {
            "startup": false,
            "wait_interval": 0
          },
          "output_extras": [
            {}
          ],
          "base_uri": "https://localhost:8080/",
          "height": 52
        },
        "outputId": "624caeaf-6587-4971-f24d-8520a9cacf7b",
        "executionInfo": {
          "status": "ok",
          "timestamp": 1521405930500,
          "user_tz": 240,
          "elapsed": 374,
          "user": {
            "displayName": "Nadeem Ward",
            "photoUrl": "https://lh3.googleusercontent.com/a/default-user=s128",
            "userId": "102970361462901564389"
          }
        }
      },
      "cell_type": "code",
      "source": [
        "#flatten the new data\n",
        "\n",
        "print(new_x_train_data.shape)\n",
        "flat_new_x_train_data = flatten_data(new_x_train_data)\n",
        "print(flat_new_x_train_data.shape)"
      ],
      "execution_count": 0,
      "outputs": [
        {
          "output_type": "stream",
          "text": [
            "(49828, 28, 28)\n",
            "(49828, 784)\n"
          ],
          "name": "stdout"
        }
      ]
    },
    {
      "metadata": {
        "id": "KFAyJSD4jAAs",
        "colab_type": "code",
        "colab": {
          "autoexec": {
            "startup": false,
            "wait_interval": 0
          },
          "output_extras": [
            {}
          ],
          "base_uri": "https://localhost:8080/",
          "height": 69
        },
        "outputId": "f1db35d4-5cd0-42be-d639-a412f951f9f1",
        "executionInfo": {
          "status": "ok",
          "timestamp": 1521400409927,
          "user_tz": 240,
          "elapsed": 311,
          "user": {
            "displayName": "Nadeem Ward",
            "photoUrl": "https://lh3.googleusercontent.com/a/default-user=s128",
            "userId": "102970361462901564389"
          }
        }
      },
      "cell_type": "code",
      "source": [
        "# split the data\n",
        "\n",
        "x_train, x_test, y_train, y_test = train_test_split(flat_new_x_train_data, train_y_wo_touching, test_size=0.2, random_state=42)\n",
        "print (x_train.shape, y_train.shape)\n",
        "print (x_test.shape, y_test.shape)"
      ],
      "execution_count": 0,
      "outputs": [
        {
          "output_type": "stream",
          "text": [
            "(50000,)\n",
            "(39862, 784) (39862,)\n",
            "(9966, 784) (9966,)\n"
          ],
          "name": "stdout"
        }
      ]
    },
    {
      "metadata": {
        "id": "bYmIdi3POJDa",
        "colab_type": "code",
        "colab": {
          "autoexec": {
            "startup": false,
            "wait_interval": 0
          }
        }
      },
      "cell_type": "code",
      "source": [
        "svm = svm.SVC(kernel='rbf') # svm with different kernel\n",
        "svm = LinearSVC() \n",
        "svm.fit(x_train, y_train)\n",
        "preds = svm.predict(x_test)\n",
        "acc = accuracy_score(y_test, preds)\n",
        "\n",
        "print('got accuracy: {}'.format(acc))"
      ],
      "execution_count": 0,
      "outputs": []
    },
    {
      "metadata": {
        "id": "rvAjGtBlLR0g",
        "colab_type": "code",
        "colab": {
          "autoexec": {
            "startup": false,
            "wait_interval": 0
          },
          "output_extras": [
            {
              "item_id": 1
            }
          ],
          "base_uri": "https://localhost:8080/",
          "height": 34
        },
        "outputId": "9ed420f3-b4ad-4422-dcdd-045d20061179",
        "executionInfo": {
          "status": "ok",
          "timestamp": 1521507386855,
          "user_tz": 240,
          "elapsed": 1270,
          "user": {
            "displayName": "Daoud Piracha",
            "photoUrl": "https://lh3.googleusercontent.com/a/default-user=s128",
            "userId": "108185722932791441609"
          }
        }
      },
      "cell_type": "code",
      "source": [
        "# Create & upload a file.\n",
        "uploaded = drive.CreateFile({'title': 'ensemble.csv'})\n",
        "uploaded.SetContentFile('ensemble.csv')\n",
        "uploaded.Upload()\n",
        "print('Uploaded file with ID {}'.format(uploaded.get('id')))\n"
      ],
      "execution_count": 90,
      "outputs": [
        {
          "output_type": "stream",
          "text": [
            "Uploaded file with ID 1yn3i4EMoXMLVxFPNFBUrIbV5h46JoG85\n"
          ],
          "name": "stdout"
        }
      ]
    },
    {
      "metadata": {
        "id": "v1I2xk8xiK6j",
        "colab_type": "code",
        "colab": {
          "autoexec": {
            "startup": false,
            "wait_interval": 0
          },
          "output_extras": [
            {
              "item_id": 1
            },
            {
              "item_id": 2
            },
            {
              "item_id": 3
            }
          ],
          "base_uri": "https://localhost:8080/",
          "height": 696
        },
        "outputId": "0c2823e9-7aac-489b-865b-4dd7a90eaa80",
        "executionInfo": {
          "status": "ok",
          "timestamp": 1521435189689,
          "user_tz": 240,
          "elapsed": 700,
          "user": {
            "displayName": "Daoud Piracha",
            "photoUrl": "https://lh3.googleusercontent.com/a/default-user=s128",
            "userId": "108185722932791441609"
          }
        }
      },
      "cell_type": "code",
      "source": [
        "# # preprocess the dataset to fit into CNN's\n",
        "# preprocessed_x_train = preprocessing_CNN(subimg_x_train)\n",
        "# print(preprocessed_x_train.shape)\n",
        "\n",
        "# # turn the y into categorical\n",
        "# preprocessed_y_train = keras.utils.to_categorical(backup_train_y, num_classes)\n",
        "\n",
        "\n",
        "#display preprocessed image [0]\n",
        "i = 10\n",
        "plt.imshow(backup_train_x[i].reshape(64,64),cmap='gray')\n",
        "plt.show()\n",
        "\n",
        "plt.imshow(new_x_train_data[i].reshape(28,28),cmap='gray')\n",
        "plt.show()\n",
        "predictions[i].argmax()\n",
        "#display the expected output\n",
        "#print(preprocessed_y_train[0])\n",
        "\n",
        "\n",
        "# preds = model.predict(preprocessed_x_train)\n"
      ],
      "execution_count": 92,
      "outputs": [
        {
          "output_type": "display_data",
          "data": {
            "image/png": "[encoded data removed]",
            "text/plain": [
              "<matplotlib.figure.Figure at 0x7fbfd6c5cb00>"
            ]
          },
          "metadata": {
            "tags": []
          }
        },
        {
          "output_type": "display_data",
          "data": {
            "image/png": "[encoded data removed]",
            "text/plain": [
              "<matplotlib.figure.Figure at 0x7fbfd6c0dac8>"
            ]
          },
          "metadata": {
            "tags": []
          }
        },
        {
          "output_type": "execute_result",
          "data": {
            "text/plain": [
              "1"
            ]
          },
          "metadata": {
            "tags": []
          },
          "execution_count": 92
        }
      ]
    },
    {
      "metadata": {
        "id": "4uWWJl8Ei0mA",
        "colab_type": "code",
        "colab": {
          "autoexec": {
            "startup": false,
            "wait_interval": 0
          },
          "output_extras": [
            {}
          ],
          "base_uri": "https://localhost:8080/",
          "height": 52
        },
        "outputId": "c0cb129e-90e6-44f6-f37b-aac7be285f6c",
        "executionInfo": {
          "status": "ok",
          "timestamp": 1521417444311,
          "user_tz": 240,
          "elapsed": 6321,
          "user": {
            "displayName": "Nadeem Ward",
            "photoUrl": "https://lh3.googleusercontent.com/a/default-user=s128",
            "userId": "102970361462901564389"
          }
        }
      },
      "cell_type": "code",
      "source": [
        "score = model.evaluate(preprocessed_x_train,preprocessed_y_train, verbose=0)\n",
        "print('Test loss:', score[0])\n",
        "print('Test accuracy:', score[1])"
      ],
      "execution_count": 0,
      "outputs": [
        {
          "output_type": "stream",
          "text": [
            "Test loss: 1.581616075744629\n",
            "Test accuracy: 0.68166\n"
          ],
          "name": "stdout"
        }
      ]
    },
    {
      "metadata": {
        "id": "lyTshX54JUdS",
        "colab_type": "code",
        "colab": {
          "autoexec": {
            "startup": false,
            "wait_interval": 0
          },
          "output_extras": [
            {
              "item_id": 1
            }
          ],
          "base_uri": "https://localhost:8080/",
          "height": 130
        },
        "outputId": "2f5f3929-67b4-40c2-aa0e-562f55967505",
        "executionInfo": {
          "status": "error",
          "timestamp": 1521507159385,
          "user_tz": 240,
          "elapsed": 346,
          "user": {
            "displayName": "Daoud Piracha",
            "photoUrl": "https://lh3.googleusercontent.com/a/default-user=s128",
            "userId": "108185722932791441609"
          }
        }
      },
      "cell_type": "code",
      "source": [
        "\n",
        "from google.colab import files\n",
        "files.download(‘ensemble.csv’)\n"
      ],
      "execution_count": 84,
      "outputs": [
        {
          "output_type": "error",
          "ename": "SyntaxError",
          "evalue": "ignored",
          "traceback": [
            "\u001b[0;36m  File \u001b[0;32m\"<ipython-input-84-823d44ad23ac>\"\u001b[0;36m, line \u001b[0;32m3\u001b[0m\n\u001b[0;31m    files.download(‘ensemble.csv’)\u001b[0m\n\u001b[0m                           ^\u001b[0m\n\u001b[0;31mSyntaxError\u001b[0m\u001b[0;31m:\u001b[0m invalid character in identifier\n"
          ]
        }
      ]
    },
    {
      "metadata": {
        "id": "junj_3naCSB3",
        "colab_type": "text"
      },
      "cell_type": "markdown",
      "source": [
        "## Baseline SVM ( takes a long time to train ~ 20 mins)"
      ]
    },
    {
      "metadata": {
        "id": "ajLRS7Frxbs5",
        "colab_type": "code",
        "colab": {
          "autoexec": {
            "startup": false,
            "wait_interval": 0
          }
        }
      },
      "cell_type": "code",
      "source": [
        "def flatten_data(data):\n",
        "  print(data.shape[0])\n",
        "  new_data = np.zeros((data.shape[0],4096))\n",
        "  counter = 0\n",
        "  for img in data:\n",
        "    new_data[counter] = img.flatten()\n",
        "    counter+=1\n",
        "  return new_data"
      ],
      "execution_count": 0,
      "outputs": []
    },
    {
      "metadata": {
        "id": "RYm1mA0GvQmP",
        "colab_type": "code",
        "colab": {
          "autoexec": {
            "startup": false,
            "wait_interval": 0
          },
          "output_extras": [
            {}
          ],
          "base_uri": "https://localhost:8080/",
          "height": 69
        },
        "outputId": "06ec99d3-3863-4c32-927f-71d9090f0da7",
        "executionInfo": {
          "status": "ok",
          "timestamp": 1521257243019,
          "user_tz": 240,
          "elapsed": 2521,
          "user": {
            "displayName": "Nadeem Ward",
            "photoUrl": "https://lh3.googleusercontent.com/a/default-user=s128",
            "userId": "102970361462901564389"
          }
        }
      },
      "cell_type": "code",
      "source": [
        "x_train, x_test, y_train, y_test = train_test_split(flatten_data(train_x), train_y, test_size=0.2, random_state=42)\n",
        "\n",
        "print (x_train.shape, y_train.shape)\n",
        "print (x_test.shape, y_test.shape)"
      ],
      "execution_count": 0,
      "outputs": [
        {
          "output_type": "stream",
          "text": [
            "50000\n",
            "(40000, 4096) (40000, 1)\n",
            "(10000, 4096) (10000, 1)\n"
          ],
          "name": "stdout"
        }
      ]
    },
    {
      "metadata": {
        "id": "V5hLtehpHIlm",
        "colab_type": "code",
        "colab": {
          "autoexec": {
            "startup": false,
            "wait_interval": 0
          },
          "output_extras": [
            {}
          ],
          "base_uri": "https://localhost:8080/",
          "height": 34
        },
        "outputId": "d9b8c51d-106b-44f6-fe32-f2809bd85580"
      },
      "cell_type": "code",
      "source": [
        "# train SVM\n",
        "\n",
        "models = [LinearSVC()]\n",
        "names = ['SVM']\n",
        "\n",
        "for name, model in zip(names, models):\n",
        "\tmodel.fit(x_train, y_train.ravel())\n",
        "\tpreds = model.predict(x_test)\n",
        "\tacc = accuracy_score(y_test, preds)\n",
        "\tprint('Model {} got accuracy: {}'.format(name, acc))"
      ],
      "execution_count": 0,
      "outputs": [
        {
          "output_type": "stream",
          "text": [
            "ModelSVMgotaccuracy0.4436082681115794\n"
          ],
          "name": "stdout"
        }
      ]
    },
    {
      "metadata": {
        "id": "T9SFLfXq_2d1",
        "colab_type": "code",
        "colab": {
          "autoexec": {
            "startup": false,
            "wait_interval": 0
          }
        }
      },
      "cell_type": "code",
      "source": [
        ""
      ],
      "execution_count": 0,
      "outputs": []
    },
    {
      "metadata": {
        "id": "NXEU3WZf3fwo",
        "colab_type": "text"
      },
      "cell_type": "markdown",
      "source": [
        "# Submitting our predictions"
      ]
    },
    {
      "metadata": {
        "id": "kgNAMDEn3exO",
        "colab_type": "code",
        "colab": {
          "autoexec": {
            "startup": false,
            "wait_interval": 0
          }
        }
      },
      "cell_type": "code",
      "source": [
        "#pre-process for predicting\n",
        "def kagglePredict(model_name, df):\n",
        "  predictions = model.predict(cnn_x_test).argmax(axis=1)\n",
        "  df[model_name] = predictions\n",
        "  return df\n",
        "\n",
        "\n",
        "#kaggle = pd.DataFrame()\n",
        "#kaggle.reset_index()\n",
        "#kaggle[\"Id\"] = kaggle.index\n",
        "\n",
        "processed_x_test = new_data(np.copy(backup_test_x), find_largest_count_ratio)\n",
        "cnn_x_test = preprocessing_CNN(processed_x_test)\n"
      ],
      "execution_count": 0,
      "outputs": []
    },
    {
      "metadata": {
        "id": "Uit0kdNRCCjB",
        "colab_type": "code",
        "colab": {
          "autoexec": {
            "startup": false,
            "wait_interval": 0
          },
          "output_extras": [
            {
              "item_id": 1
            }
          ],
          "base_uri": "https://localhost:8080/",
          "height": 1986
        },
        "outputId": "55a0a917-52e3-43d1-ceb0-ca0b4e0e8ca4",
        "executionInfo": {
          "status": "ok",
          "timestamp": 1521506829792,
          "user_tz": 240,
          "elapsed": 1863,
          "user": {
            "displayName": "Daoud Piracha",
            "photoUrl": "https://lh3.googleusercontent.com/a/default-user=s128",
            "userId": "108185722932791441609"
          }
        }
      },
      "cell_type": "code",
      "source": [
        "#predicting\n",
        "kaggle = kagglePredict(\"Max Pixel Vanilla, CNN Batch = \" + str(batch_size)+\", epochs = \" + str(epochs), kaggle)\n",
        "\n",
        "kaggle"
      ],
      "execution_count": 76,
      "outputs": [
        {
          "output_type": "execute_result",
          "data": {
            "text/html": [
              "<div>\n",
              "<style scoped>\n",
              "    .dataframe tbody tr th:only-of-type {\n",
              "        vertical-align: middle;\n",
              "    }\n",
              "\n",
              "    .dataframe tbody tr th {\n",
              "        vertical-align: top;\n",
              "    }\n",
              "\n",
              "    .dataframe thead th {\n",
              "        text-align: right;\n",
              "    }\n",
              "</style>\n",
              "<table border=\"1\" class=\"dataframe\">\n",
              "  <thead>\n",
              "    <tr style=\"text-align: right;\">\n",
              "      <th></th>\n",
              "      <th>Max Axes Vanilla, CNN Batch = 64, epochs = 16</th>\n",
              "      <th>Max Axes Vanilla, CNN Batch = 128, epochs = 16</th>\n",
              "      <th>Max Pixel Vanilla, CNN Batch = 128, epochs = 16</th>\n",
              "      <th>Max Pixel Vanilla, CNN Batch = 64, epochs = 16</th>\n",
              "    </tr>\n",
              "  </thead>\n",
              "  <tbody>\n",
              "    <tr>\n",
              "      <th>0</th>\n",
              "      <td>7</td>\n",
              "      <td>7</td>\n",
              "      <td>7</td>\n",
              "      <td>7</td>\n",
              "    </tr>\n",
              "    <tr>\n",
              "      <th>1</th>\n",
              "      <td>2</td>\n",
              "      <td>2</td>\n",
              "      <td>2</td>\n",
              "      <td>2</td>\n",
              "    </tr>\n",
              "    <tr>\n",
              "      <th>2</th>\n",
              "      <td>0</td>\n",
              "      <td>0</td>\n",
              "      <td>0</td>\n",
              "      <td>0</td>\n",
              "    </tr>\n",
              "    <tr>\n",
              "      <th>3</th>\n",
              "      <td>7</td>\n",
              "      <td>7</td>\n",
              "      <td>7</td>\n",
              "      <td>7</td>\n",
              "    </tr>\n",
              "    <tr>\n",
              "      <th>4</th>\n",
              "      <td>6</td>\n",
              "      <td>6</td>\n",
              "      <td>6</td>\n",
              "      <td>6</td>\n",
              "    </tr>\n",
              "    <tr>\n",
              "      <th>5</th>\n",
              "      <td>1</td>\n",
              "      <td>1</td>\n",
              "      <td>1</td>\n",
              "      <td>1</td>\n",
              "    </tr>\n",
              "    <tr>\n",
              "      <th>6</th>\n",
              "      <td>5</td>\n",
              "      <td>5</td>\n",
              "      <td>5</td>\n",
              "      <td>5</td>\n",
              "    </tr>\n",
              "    <tr>\n",
              "      <th>7</th>\n",
              "      <td>3</td>\n",
              "      <td>3</td>\n",
              "      <td>3</td>\n",
              "      <td>3</td>\n",
              "    </tr>\n",
              "    <tr>\n",
              "      <th>8</th>\n",
              "      <td>8</td>\n",
              "      <td>8</td>\n",
              "      <td>8</td>\n",
              "      <td>8</td>\n",
              "    </tr>\n",
              "    <tr>\n",
              "      <th>9</th>\n",
              "      <td>1</td>\n",
              "      <td>1</td>\n",
              "      <td>1</td>\n",
              "      <td>1</td>\n",
              "    </tr>\n",
              "    <tr>\n",
              "      <th>10</th>\n",
              "      <td>5</td>\n",
              "      <td>5</td>\n",
              "      <td>5</td>\n",
              "      <td>5</td>\n",
              "    </tr>\n",
              "    <tr>\n",
              "      <th>11</th>\n",
              "      <td>2</td>\n",
              "      <td>2</td>\n",
              "      <td>2</td>\n",
              "      <td>2</td>\n",
              "    </tr>\n",
              "    <tr>\n",
              "      <th>12</th>\n",
              "      <td>9</td>\n",
              "      <td>9</td>\n",
              "      <td>9</td>\n",
              "      <td>9</td>\n",
              "    </tr>\n",
              "    <tr>\n",
              "      <th>13</th>\n",
              "      <td>1</td>\n",
              "      <td>1</td>\n",
              "      <td>1</td>\n",
              "      <td>1</td>\n",
              "    </tr>\n",
              "    <tr>\n",
              "      <th>14</th>\n",
              "      <td>0</td>\n",
              "      <td>0</td>\n",
              "      <td>0</td>\n",
              "      <td>0</td>\n",
              "    </tr>\n",
              "    <tr>\n",
              "      <th>15</th>\n",
              "      <td>2</td>\n",
              "      <td>2</td>\n",
              "      <td>2</td>\n",
              "      <td>2</td>\n",
              "    </tr>\n",
              "    <tr>\n",
              "      <th>16</th>\n",
              "      <td>3</td>\n",
              "      <td>3</td>\n",
              "      <td>3</td>\n",
              "      <td>3</td>\n",
              "    </tr>\n",
              "    <tr>\n",
              "      <th>17</th>\n",
              "      <td>0</td>\n",
              "      <td>0</td>\n",
              "      <td>0</td>\n",
              "      <td>0</td>\n",
              "    </tr>\n",
              "    <tr>\n",
              "      <th>18</th>\n",
              "      <td>0</td>\n",
              "      <td>0</td>\n",
              "      <td>0</td>\n",
              "      <td>0</td>\n",
              "    </tr>\n",
              "    <tr>\n",
              "      <th>19</th>\n",
              "      <td>3</td>\n",
              "      <td>3</td>\n",
              "      <td>3</td>\n",
              "      <td>3</td>\n",
              "    </tr>\n",
              "    <tr>\n",
              "      <th>20</th>\n",
              "      <td>3</td>\n",
              "      <td>3</td>\n",
              "      <td>3</td>\n",
              "      <td>3</td>\n",
              "    </tr>\n",
              "    <tr>\n",
              "      <th>21</th>\n",
              "      <td>0</td>\n",
              "      <td>0</td>\n",
              "      <td>0</td>\n",
              "      <td>0</td>\n",
              "    </tr>\n",
              "    <tr>\n",
              "      <th>22</th>\n",
              "      <td>6</td>\n",
              "      <td>6</td>\n",
              "      <td>6</td>\n",
              "      <td>6</td>\n",
              "    </tr>\n",
              "    <tr>\n",
              "      <th>23</th>\n",
              "      <td>1</td>\n",
              "      <td>1</td>\n",
              "      <td>1</td>\n",
              "      <td>1</td>\n",
              "    </tr>\n",
              "    <tr>\n",
              "      <th>24</th>\n",
              "      <td>6</td>\n",
              "      <td>4</td>\n",
              "      <td>4</td>\n",
              "      <td>1</td>\n",
              "    </tr>\n",
              "    <tr>\n",
              "      <th>25</th>\n",
              "      <td>0</td>\n",
              "      <td>0</td>\n",
              "      <td>0</td>\n",
              "      <td>0</td>\n",
              "    </tr>\n",
              "    <tr>\n",
              "      <th>26</th>\n",
              "      <td>2</td>\n",
              "      <td>2</td>\n",
              "      <td>2</td>\n",
              "      <td>2</td>\n",
              "    </tr>\n",
              "    <tr>\n",
              "      <th>27</th>\n",
              "      <td>8</td>\n",
              "      <td>8</td>\n",
              "      <td>8</td>\n",
              "      <td>8</td>\n",
              "    </tr>\n",
              "    <tr>\n",
              "      <th>28</th>\n",
              "      <td>3</td>\n",
              "      <td>3</td>\n",
              "      <td>3</td>\n",
              "      <td>3</td>\n",
              "    </tr>\n",
              "    <tr>\n",
              "      <th>29</th>\n",
              "      <td>0</td>\n",
              "      <td>0</td>\n",
              "      <td>0</td>\n",
              "      <td>0</td>\n",
              "    </tr>\n",
              "    <tr>\n",
              "      <th>...</th>\n",
              "      <td>...</td>\n",
              "      <td>...</td>\n",
              "      <td>...</td>\n",
              "      <td>...</td>\n",
              "    </tr>\n",
              "    <tr>\n",
              "      <th>9970</th>\n",
              "      <td>5</td>\n",
              "      <td>5</td>\n",
              "      <td>5</td>\n",
              "      <td>5</td>\n",
              "    </tr>\n",
              "    <tr>\n",
              "      <th>9971</th>\n",
              "      <td>4</td>\n",
              "      <td>4</td>\n",
              "      <td>4</td>\n",
              "      <td>4</td>\n",
              "    </tr>\n",
              "    <tr>\n",
              "      <th>9972</th>\n",
              "      <td>9</td>\n",
              "      <td>9</td>\n",
              "      <td>9</td>\n",
              "      <td>9</td>\n",
              "    </tr>\n",
              "    <tr>\n",
              "      <th>9973</th>\n",
              "      <td>4</td>\n",
              "      <td>4</td>\n",
              "      <td>4</td>\n",
              "      <td>4</td>\n",
              "    </tr>\n",
              "    <tr>\n",
              "      <th>9974</th>\n",
              "      <td>0</td>\n",
              "      <td>0</td>\n",
              "      <td>0</td>\n",
              "      <td>0</td>\n",
              "    </tr>\n",
              "    <tr>\n",
              "      <th>9975</th>\n",
              "      <td>4</td>\n",
              "      <td>4</td>\n",
              "      <td>4</td>\n",
              "      <td>4</td>\n",
              "    </tr>\n",
              "    <tr>\n",
              "      <th>9976</th>\n",
              "      <td>8</td>\n",
              "      <td>8</td>\n",
              "      <td>8</td>\n",
              "      <td>8</td>\n",
              "    </tr>\n",
              "    <tr>\n",
              "      <th>9977</th>\n",
              "      <td>1</td>\n",
              "      <td>1</td>\n",
              "      <td>1</td>\n",
              "      <td>1</td>\n",
              "    </tr>\n",
              "    <tr>\n",
              "      <th>9978</th>\n",
              "      <td>3</td>\n",
              "      <td>3</td>\n",
              "      <td>3</td>\n",
              "      <td>3</td>\n",
              "    </tr>\n",
              "    <tr>\n",
              "      <th>9979</th>\n",
              "      <td>9</td>\n",
              "      <td>9</td>\n",
              "      <td>9</td>\n",
              "      <td>9</td>\n",
              "    </tr>\n",
              "    <tr>\n",
              "      <th>9980</th>\n",
              "      <td>7</td>\n",
              "      <td>7</td>\n",
              "      <td>7</td>\n",
              "      <td>7</td>\n",
              "    </tr>\n",
              "    <tr>\n",
              "      <th>9981</th>\n",
              "      <td>0</td>\n",
              "      <td>0</td>\n",
              "      <td>0</td>\n",
              "      <td>0</td>\n",
              "    </tr>\n",
              "    <tr>\n",
              "      <th>9982</th>\n",
              "      <td>6</td>\n",
              "      <td>6</td>\n",
              "      <td>6</td>\n",
              "      <td>6</td>\n",
              "    </tr>\n",
              "    <tr>\n",
              "      <th>9983</th>\n",
              "      <td>7</td>\n",
              "      <td>7</td>\n",
              "      <td>7</td>\n",
              "      <td>7</td>\n",
              "    </tr>\n",
              "    <tr>\n",
              "      <th>9984</th>\n",
              "      <td>8</td>\n",
              "      <td>8</td>\n",
              "      <td>8</td>\n",
              "      <td>8</td>\n",
              "    </tr>\n",
              "    <tr>\n",
              "      <th>9985</th>\n",
              "      <td>7</td>\n",
              "      <td>7</td>\n",
              "      <td>7</td>\n",
              "      <td>7</td>\n",
              "    </tr>\n",
              "    <tr>\n",
              "      <th>9986</th>\n",
              "      <td>3</td>\n",
              "      <td>3</td>\n",
              "      <td>3</td>\n",
              "      <td>3</td>\n",
              "    </tr>\n",
              "    <tr>\n",
              "      <th>9987</th>\n",
              "      <td>3</td>\n",
              "      <td>3</td>\n",
              "      <td>3</td>\n",
              "      <td>3</td>\n",
              "    </tr>\n",
              "    <tr>\n",
              "      <th>9988</th>\n",
              "      <td>6</td>\n",
              "      <td>6</td>\n",
              "      <td>6</td>\n",
              "      <td>6</td>\n",
              "    </tr>\n",
              "    <tr>\n",
              "      <th>9989</th>\n",
              "      <td>7</td>\n",
              "      <td>7</td>\n",
              "      <td>7</td>\n",
              "      <td>7</td>\n",
              "    </tr>\n",
              "    <tr>\n",
              "      <th>9990</th>\n",
              "      <td>2</td>\n",
              "      <td>2</td>\n",
              "      <td>2</td>\n",
              "      <td>2</td>\n",
              "    </tr>\n",
              "    <tr>\n",
              "      <th>9991</th>\n",
              "      <td>2</td>\n",
              "      <td>2</td>\n",
              "      <td>2</td>\n",
              "      <td>2</td>\n",
              "    </tr>\n",
              "    <tr>\n",
              "      <th>9992</th>\n",
              "      <td>3</td>\n",
              "      <td>3</td>\n",
              "      <td>3</td>\n",
              "      <td>3</td>\n",
              "    </tr>\n",
              "    <tr>\n",
              "      <th>9993</th>\n",
              "      <td>9</td>\n",
              "      <td>9</td>\n",
              "      <td>9</td>\n",
              "      <td>9</td>\n",
              "    </tr>\n",
              "    <tr>\n",
              "      <th>9994</th>\n",
              "      <td>2</td>\n",
              "      <td>2</td>\n",
              "      <td>2</td>\n",
              "      <td>2</td>\n",
              "    </tr>\n",
              "    <tr>\n",
              "      <th>9995</th>\n",
              "      <td>9</td>\n",
              "      <td>9</td>\n",
              "      <td>9</td>\n",
              "      <td>9</td>\n",
              "    </tr>\n",
              "    <tr>\n",
              "      <th>9996</th>\n",
              "      <td>9</td>\n",
              "      <td>9</td>\n",
              "      <td>9</td>\n",
              "      <td>9</td>\n",
              "    </tr>\n",
              "    <tr>\n",
              "      <th>9997</th>\n",
              "      <td>1</td>\n",
              "      <td>1</td>\n",
              "      <td>1</td>\n",
              "      <td>1</td>\n",
              "    </tr>\n",
              "    <tr>\n",
              "      <th>9998</th>\n",
              "      <td>3</td>\n",
              "      <td>3</td>\n",
              "      <td>3</td>\n",
              "      <td>3</td>\n",
              "    </tr>\n",
              "    <tr>\n",
              "      <th>9999</th>\n",
              "      <td>8</td>\n",
              "      <td>3</td>\n",
              "      <td>8</td>\n",
              "      <td>3</td>\n",
              "    </tr>\n",
              "  </tbody>\n",
              "</table>\n",
              "<p>10000 rows × 4 columns</p>\n",
              "</div>"
            ],
            "text/plain": [
              "      Max Axes Vanilla, CNN Batch = 64, epochs = 16  \\\n",
              "0                                                 7   \n",
              "1                                                 2   \n",
              "2                                                 0   \n",
              "3                                                 7   \n",
              "4                                                 6   \n",
              "5                                                 1   \n",
              "6                                                 5   \n",
              "7                                                 3   \n",
              "8                                                 8   \n",
              "9                                                 1   \n",
              "10                                                5   \n",
              "11                                                2   \n",
              "12                                                9   \n",
              "13                                                1   \n",
              "14                                                0   \n",
              "15                                                2   \n",
              "16                                                3   \n",
              "17                                                0   \n",
              "18                                                0   \n",
              "19                                                3   \n",
              "20                                                3   \n",
              "21                                                0   \n",
              "22                                                6   \n",
              "23                                                1   \n",
              "24                                                6   \n",
              "25                                                0   \n",
              "26                                                2   \n",
              "27                                                8   \n",
              "28                                                3   \n",
              "29                                                0   \n",
              "...                                             ...   \n",
              "9970                                              5   \n",
              "9971                                              4   \n",
              "9972                                              9   \n",
              "9973                                              4   \n",
              "9974                                              0   \n",
              "9975                                              4   \n",
              "9976                                              8   \n",
              "9977                                              1   \n",
              "9978                                              3   \n",
              "9979                                              9   \n",
              "9980                                              7   \n",
              "9981                                              0   \n",
              "9982                                              6   \n",
              "9983                                              7   \n",
              "9984                                              8   \n",
              "9985                                              7   \n",
              "9986                                              3   \n",
              "9987                                              3   \n",
              "9988                                              6   \n",
              "9989                                              7   \n",
              "9990                                              2   \n",
              "9991                                              2   \n",
              "9992                                              3   \n",
              "9993                                              9   \n",
              "9994                                              2   \n",
              "9995                                              9   \n",
              "9996                                              9   \n",
              "9997                                              1   \n",
              "9998                                              3   \n",
              "9999                                              8   \n",
              "\n",
              "      Max Axes Vanilla, CNN Batch = 128, epochs = 16  \\\n",
              "0                                                  7   \n",
              "1                                                  2   \n",
              "2                                                  0   \n",
              "3                                                  7   \n",
              "4                                                  6   \n",
              "5                                                  1   \n",
              "6                                                  5   \n",
              "7                                                  3   \n",
              "8                                                  8   \n",
              "9                                                  1   \n",
              "10                                                 5   \n",
              "11                                                 2   \n",
              "12                                                 9   \n",
              "13                                                 1   \n",
              "14                                                 0   \n",
              "15                                                 2   \n",
              "16                                                 3   \n",
              "17                                                 0   \n",
              "18                                                 0   \n",
              "19                                                 3   \n",
              "20                                                 3   \n",
              "21                                                 0   \n",
              "22                                                 6   \n",
              "23                                                 1   \n",
              "24                                                 4   \n",
              "25                                                 0   \n",
              "26                                                 2   \n",
              "27                                                 8   \n",
              "28                                                 3   \n",
              "29                                                 0   \n",
              "...                                              ...   \n",
              "9970                                               5   \n",
              "9971                                               4   \n",
              "9972                                               9   \n",
              "9973                                               4   \n",
              "9974                                               0   \n",
              "9975                                               4   \n",
              "9976                                               8   \n",
              "9977                                               1   \n",
              "9978                                               3   \n",
              "9979                                               9   \n",
              "9980                                               7   \n",
              "9981                                               0   \n",
              "9982                                               6   \n",
              "9983                                               7   \n",
              "9984                                               8   \n",
              "9985                                               7   \n",
              "9986                                               3   \n",
              "9987                                               3   \n",
              "9988                                               6   \n",
              "9989                                               7   \n",
              "9990                                               2   \n",
              "9991                                               2   \n",
              "9992                                               3   \n",
              "9993                                               9   \n",
              "9994                                               2   \n",
              "9995                                               9   \n",
              "9996                                               9   \n",
              "9997                                               1   \n",
              "9998                                               3   \n",
              "9999                                               3   \n",
              "\n",
              "      Max Pixel Vanilla, CNN Batch = 128, epochs = 16  \\\n",
              "0                                                   7   \n",
              "1                                                   2   \n",
              "2                                                   0   \n",
              "3                                                   7   \n",
              "4                                                   6   \n",
              "5                                                   1   \n",
              "6                                                   5   \n",
              "7                                                   3   \n",
              "8                                                   8   \n",
              "9                                                   1   \n",
              "10                                                  5   \n",
              "11                                                  2   \n",
              "12                                                  9   \n",
              "13                                                  1   \n",
              "14                                                  0   \n",
              "15                                                  2   \n",
              "16                                                  3   \n",
              "17                                                  0   \n",
              "18                                                  0   \n",
              "19                                                  3   \n",
              "20                                                  3   \n",
              "21                                                  0   \n",
              "22                                                  6   \n",
              "23                                                  1   \n",
              "24                                                  4   \n",
              "25                                                  0   \n",
              "26                                                  2   \n",
              "27                                                  8   \n",
              "28                                                  3   \n",
              "29                                                  0   \n",
              "...                                               ...   \n",
              "9970                                                5   \n",
              "9971                                                4   \n",
              "9972                                                9   \n",
              "9973                                                4   \n",
              "9974                                                0   \n",
              "9975                                                4   \n",
              "9976                                                8   \n",
              "9977                                                1   \n",
              "9978                                                3   \n",
              "9979                                                9   \n",
              "9980                                                7   \n",
              "9981                                                0   \n",
              "9982                                                6   \n",
              "9983                                                7   \n",
              "9984                                                8   \n",
              "9985                                                7   \n",
              "9986                                                3   \n",
              "9987                                                3   \n",
              "9988                                                6   \n",
              "9989                                                7   \n",
              "9990                                                2   \n",
              "9991                                                2   \n",
              "9992                                                3   \n",
              "9993                                                9   \n",
              "9994                                                2   \n",
              "9995                                                9   \n",
              "9996                                                9   \n",
              "9997                                                1   \n",
              "9998                                                3   \n",
              "9999                                                8   \n",
              "\n",
              "      Max Pixel Vanilla, CNN Batch = 64, epochs = 16  \n",
              "0                                                  7  \n",
              "1                                                  2  \n",
              "2                                                  0  \n",
              "3                                                  7  \n",
              "4                                                  6  \n",
              "5                                                  1  \n",
              "6                                                  5  \n",
              "7                                                  3  \n",
              "8                                                  8  \n",
              "9                                                  1  \n",
              "10                                                 5  \n",
              "11                                                 2  \n",
              "12                                                 9  \n",
              "13                                                 1  \n",
              "14                                                 0  \n",
              "15                                                 2  \n",
              "16                                                 3  \n",
              "17                                                 0  \n",
              "18                                                 0  \n",
              "19                                                 3  \n",
              "20                                                 3  \n",
              "21                                                 0  \n",
              "22                                                 6  \n",
              "23                                                 1  \n",
              "24                                                 1  \n",
              "25                                                 0  \n",
              "26                                                 2  \n",
              "27                                                 8  \n",
              "28                                                 3  \n",
              "29                                                 0  \n",
              "...                                              ...  \n",
              "9970                                               5  \n",
              "9971                                               4  \n",
              "9972                                               9  \n",
              "9973                                               4  \n",
              "9974                                               0  \n",
              "9975                                               4  \n",
              "9976                                               8  \n",
              "9977                                               1  \n",
              "9978                                               3  \n",
              "9979                                               9  \n",
              "9980                                               7  \n",
              "9981                                               0  \n",
              "9982                                               6  \n",
              "9983                                               7  \n",
              "9984                                               8  \n",
              "9985                                               7  \n",
              "9986                                               3  \n",
              "9987                                               3  \n",
              "9988                                               6  \n",
              "9989                                               7  \n",
              "9990                                               2  \n",
              "9991                                               2  \n",
              "9992                                               3  \n",
              "9993                                               9  \n",
              "9994                                               2  \n",
              "9995                                               9  \n",
              "9996                                               9  \n",
              "9997                                               1  \n",
              "9998                                               3  \n",
              "9999                                               3  \n",
              "\n",
              "[10000 rows x 4 columns]"
            ]
          },
          "metadata": {
            "tags": []
          },
          "execution_count": 76
        }
      ]
    },
    {
      "metadata": {
        "id": "UEkFBbiR3BxY",
        "colab_type": "code",
        "colab": {
          "autoexec": {
            "startup": false,
            "wait_interval": 0
          }
        }
      },
      "cell_type": "code",
      "source": [
        "sub = kaggle.mode(axis = 1)[0].astype(int)\n",
        "sub.to_csv(\"ensemble.csv\")"
      ],
      "execution_count": 0,
      "outputs": []
    },
    {
      "metadata": {
        "id": "1M8RRe0Vlo8C",
        "colab_type": "text"
      },
      "cell_type": "markdown",
      "source": [
        "Downloading our predictions"
      ]
    },
    {
      "metadata": {
        "id": "4AHIcceDJVMf",
        "colab_type": "code",
        "colab": {
          "autoexec": {
            "startup": false,
            "wait_interval": 0
          }
        }
      },
      "cell_type": "code",
      "source": [
        "# Install the PyDrive wrapper & import libraries.\n",
        "# This only needs to be done once in a notebook.\n",
        "!pip install -U -q PyDrive\n",
        "from pydrive.auth import GoogleAuth\n",
        "from pydrive.drive import GoogleDrive\n",
        "from google.colab import auth\n",
        "from oauth2client.client import GoogleCredentials\n",
        "\n",
        "# Authenticate and create the PyDrive client.\n",
        "# This only needs to be done once in a notebook.\n",
        "auth.authenticate_user()\n",
        "gauth = GoogleAuth()\n",
        "gauth.credentials = GoogleCredentials.get_application_default()\n",
        "drive = GoogleDrive(gauth)\n",
        "\n"
      ],
      "execution_count": 0,
      "outputs": []
    },
    {
      "metadata": {
        "id": "YiTMkldPIZ7X",
        "colab_type": "text"
      },
      "cell_type": "markdown",
      "source": [
        "# Analyzing MNIST"
      ]
    },
    {
      "metadata": {
        "id": "UqYIxYr8InrN",
        "colab_type": "code",
        "colab": {
          "autoexec": {
            "startup": false,
            "wait_interval": 0
          }
        },
        "cellView": "code"
      },
      "cell_type": "code",
      "source": [
        "def load_flattened_mnist():\n",
        "  '''returns flattened x_train, x_test and y_train, y_test of mnist dataset\n",
        " '''\n",
        "  (mnist_x_train, mnist_y_train), (mnist_x_test, mnist_y_test) = mnist.load_data()\n",
        "  num_pixels = mnist_x_train.shape[1] * mnist_x_train.shape[2]\n",
        "  mnist_x_train = mnist_x_train.reshape(mnist_x_train.shape[0], num_pixels).astype('float32')\n",
        "  mnist_x_test = mnist_x_test.reshape(mnist_x_test.shape[0], num_pixels).astype('float32')\n",
        " \n",
        "  return mnist_x_train, mnist_x_test, mnist_y_train, mnist_y_test\n",
        " \n",
        "def pixel_norm(x=mnist_x_train, y=mnist_y_train):\n",
        "  '''function that returns the avg non zero pixel counts for each digit(label) in the image dataset\n",
        "    set to mnist images by default\n",
        " \n",
        "   input: flattened image dataset as x, labels as y\n",
        "   returns: array of average pixel counts\n",
        " \n",
        " '''\n",
        " \n",
        "  data = np.c_[x, y]\n",
        "  pixels = [0] * 10 # empty list of size 10 where we will store sum of all the digit pixel counts\n",
        "  counter = [0] * 10 # empty list of size 10 to store each time a digit is hit\n",
        " \n",
        "  for entry in data:\n",
        " \n",
        "    pixels[int(entry[-1])] += count_pixels(entry[:-1].reshape(28,28))\n",
        "    counter[int(entry[-1])] += 1\n",
        " \n",
        "  avg_pixel_mnist = [x/y for x, y in zip(pixels, counter)]\n",
        " \n",
        "  return avg_pixel_mnist\n",
        " \n",
        "mnist_x_train, mnist_x_test, mnist_y_train, mnist_y_test = load_flattened_mnist()\n",
        "mnist_norm = pixel_norm(mnist_x_train, mnist_y_train)"
      ],
      "execution_count": 0,
      "outputs": []
    }
  ]
}