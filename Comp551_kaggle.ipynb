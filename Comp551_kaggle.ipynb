{
  "nbformat": 4,
  "nbformat_minor": 0,
  "metadata": {
    "colab": {
      "name": "Comp551_kaggle.ipynb",
      "version": "0.3.2",
      "views": {},
      "default_view": {},
      "provenance": [
        {
          "file_id": "15kgGTyI8fywA0iDADlMuM6wCWMphb38C",
          "timestamp": 1521067308100
        }
      ],
      "collapsed_sections": [],
      "toc_visible": true
    },
    "kernelspec": {
      "name": "python3",
      "display_name": "Python 3"
    },
    "accelerator": "GPU"
  },
  "cells": [
    {
      "metadata": {
        "id": "Q7QG3A9lz7_I",
        "colab_type": "text"
      },
      "cell_type": "markdown",
      "source": [
        "# Imports and loading data"
      ]
    },
    {
      "metadata": {
        "id": "3tVJCaKA0FS-",
        "colab_type": "code",
        "colab": {
          "autoexec": {
            "startup": false,
            "wait_interval": 0
          }
        }
      },
      "cell_type": "code",
      "source": [
        "import numpy as np\n",
        "import scipy.misc\n",
        "\n",
        "URL_ENDPOINT = \"http://cs.mcgill.ca/~ksinha4/datasets/kaggle/\"\n",
        "\n",
        "train_x = np.loadtxt(URL_ENDPOINT+\"train_x.csv\", delimiter=\",\")\n",
        "train_y = np.loadtxt(URL_ENDPOINT+\"train_y.csv\", delimiter=\",\")\n",
        "test_y = np.loadtxt(URL_ENDPOINT+\"test_x.csv\", delimiter=\",\")"
      ],
      "execution_count": 0,
      "outputs": []
    },
    {
      "metadata": {
        "id": "urUygWM_uO_I",
        "colab_type": "text"
      },
      "cell_type": "markdown",
      "source": [
        "imports"
      ]
    },
    {
      "metadata": {
        "id": "763WEq9018Ya",
        "colab_type": "code",
        "colab": {
          "autoexec": {
            "startup": false,
            "wait_interval": 0
          }
        }
      },
      "cell_type": "code",
      "source": [
        "import numpy as np\n",
        "import matplotlib.pyplot as plt\n",
        "import cv2\n",
        "from sklearn.model_selection import train_test_split\n",
        "from sklearn.svm import LinearSVC\n",
        "from sklearn.linear_model import LogisticRegression"
      ],
      "execution_count": 0,
      "outputs": []
    },
    {
      "metadata": {
        "id": "e3jubKjZ4Zlb",
        "colab_type": "text"
      },
      "cell_type": "markdown",
      "source": [
        "reshape data"
      ]
    },
    {
      "metadata": {
        "id": "w7qvfOkkRdbB",
        "colab_type": "code",
        "colab": {
          "autoexec": {
            "startup": false,
            "wait_interval": 0
          }
        }
      },
      "cell_type": "code",
      "source": [
        "train_x = train_x.reshape(-1, 64, 64) # reshape\n",
        "train_y = train_y.reshape(-1, 1)"
      ],
      "execution_count": 0,
      "outputs": []
    },
    {
      "metadata": {
        "id": "upkF3k0W4iiU",
        "colab_type": "text"
      },
      "cell_type": "markdown",
      "source": [
        "# Sample printed images"
      ]
    },
    {
      "metadata": {
        "id": "HQVtHu-fuhja",
        "colab_type": "code",
        "colab": {
          "autoexec": {
            "startup": false,
            "wait_interval": 0
          },
          "output_extras": [
            {
              "item_id": 1
            },
            {
              "item_id": 2
            }
          ],
          "base_uri": "https://localhost:8080/",
          "height": 367
        },
        "outputId": "3aa835bd-8124-4270-bb8f-db51221d40a1",
        "executionInfo": {
          "status": "ok",
          "timestamp": 1521235366040,
          "user_tz": 240,
          "elapsed": 872,
          "user": {
            "displayName": "Daoud Piracha",
            "photoUrl": "https://lh3.googleusercontent.com/a/default-user=s128",
            "userId": "108185722932791441609"
          }
        }
      },
      "cell_type": "code",
      "source": [
        "print(train_y[0],train_y[1],train_y[2],train_y[3],train_y[4])\n",
        "\n",
        "plt.subplot(221)\n",
        "plt.imshow(train_x[0],cmap='gray_r')\n",
        "plt.subplot(222)\n",
        "plt.imshow(train_x[1],cmap='gray_r')\n",
        "plt.subplot(223)\n",
        "plt.imshow(train_x[2],cmap='gray_r')\n",
        "plt.subplot(224)\n",
        "plt.imshow(train_x[3],cmap='gray_r')\n",
        "plt.show()"
      ],
      "execution_count": 4,
      "outputs": [
        {
          "output_type": "stream",
          "text": [
            "[4.] [7.] [1.] [0.] [8.]\n"
          ],
          "name": "stdout"
        },
        {
          "output_type": "display_data",
          "data": {
            "image/png": "[encoded data removed]",
            "text/plain": [
              "<matplotlib.figure.Figure at 0x7ff5fac69400>"
            ]
          },
          "metadata": {
            "tags": []
          }
        }
      ]
    },
    {
      "metadata": {
        "id": "JX08Y4rKCKXI",
        "colab_type": "text"
      },
      "cell_type": "markdown",
      "source": [
        "# Preprocessing\n"
      ]
    },
    {
      "metadata": {
        "id": "eQHxvd2_uuaY",
        "colab_type": "code",
        "colab": {
          "autoexec": {
            "startup": false,
            "wait_interval": 0
          },
          "output_extras": [
            {
              "item_id": 1
            }
          ],
          "base_uri": "https://localhost:8080/",
          "height": 350
        },
        "outputId": "087be0df-2641-4107-d738-c4fec5632491",
        "executionInfo": {
          "status": "ok",
          "timestamp": 1521235368780,
          "user_tz": 240,
          "elapsed": 751,
          "user": {
            "displayName": "Daoud Piracha",
            "photoUrl": "https://lh3.googleusercontent.com/a/default-user=s128",
            "userId": "108185722932791441609"
          }
        }
      },
      "cell_type": "code",
      "source": [
        "# Set threshold and maxValue\n",
        "thresh = 254 # note on threshold, we might lose info by making such a hard split\n",
        "             # loosing some of the info on the edges, setting a more smooth split might help\n",
        "maxValue = 255\n",
        " \n",
        "# sample output for first 4 images of the dataset using threshold \n",
        "plt.subplot(221)\n",
        "th, dst = cv2.threshold(train_x[0], thresh, maxValue, cv2.THRESH_BINARY);\n",
        "plt.imshow(dst,cmap='gray')\n",
        "plt.subplot(222)\n",
        "th, dst = cv2.threshold(train_x[1], thresh, maxValue, cv2.THRESH_BINARY);\n",
        "plt.imshow(dst,cmap='gray')\n",
        "plt.subplot(223)\n",
        "th, dst = cv2.threshold(train_x[2], thresh, maxValue, cv2.THRESH_BINARY);\n",
        "plt.imshow(dst,cmap='gray')\n",
        "plt.subplot(224)\n",
        "th, dst = cv2.threshold(train_x[3], thresh, maxValue, cv2.THRESH_BINARY);\n",
        "plt.imshow(dst,cmap='gray')\n",
        "plt.show()"
      ],
      "execution_count": 5,
      "outputs": [
        {
          "output_type": "display_data",
          "data": {
            "image/png": "[encoded data removed]",
            "text/plain": [
              "<matplotlib.figure.Figure at 0x7ff5fac693c8>"
            ]
          },
          "metadata": {
            "tags": []
          }
        }
      ]
    },
    {
      "metadata": {
        "id": "h2nvWyZtWZF7",
        "colab_type": "code",
        "colab": {
          "autoexec": {
            "startup": false,
            "wait_interval": 0
          }
        }
      },
      "cell_type": "code",
      "source": [
        "def img_blackNwhite(img,thresh,maxValue):\n",
        "  ''' function for turning origional image into black and white image\n",
        "      using threshold\n",
        "  '''\n",
        "  # turn image to binary black and white\n",
        "  th, dst = cv2.threshold(img, thresh, maxValue, cv2.THRESH_BINARY);\n",
        "  \n",
        "  # convert numpy array to unsigned 8 bit to work with FindCountours()\n",
        "  dst = dst.astype(np.uint8)\n",
        "  \n",
        "  return dst"
      ],
      "execution_count": 0,
      "outputs": []
    },
    {
      "metadata": {
        "id": "96CFxD59Au8i",
        "colab_type": "code",
        "colab": {
          "autoexec": {
            "startup": false,
            "wait_interval": 0
          }
        }
      },
      "cell_type": "code",
      "source": [
        "def get_bounding_box(img,tresh,maxValue):\n",
        "  \n",
        "  ''' \n",
        "      function that returns the rectangle coordinates for bouding box given\n",
        "      an given \n",
        "      \n",
        "      - input: is a 64 x 64 image, the treshold and maxValue for seperating background\n",
        "      - return: list of rectangle coordinates\n",
        "  '''\n",
        "  # turn image to binary black and white\n",
        "  th, dst = cv2.threshold(img, thresh, maxValue, cv2.THRESH_BINARY);\n",
        "  \n",
        "  # convert numpy array to unsigned 8 bit to work with FindCountours()\n",
        "  dst = dst.astype(np.uint8)\n",
        "  \n",
        "  # Find Contours\n",
        "  image, contours, hier = cv2.findContours(dst, cv2.RETR_EXTERNAL,\n",
        "                cv2.CHAIN_APPROX_SIMPLE)\n",
        "  \n",
        "  # Get rectangles\n",
        "  rectangles = []\n",
        "  images = []\n",
        "  for cnt in contours:\n",
        "    x,y,w,h = cv2.boundingRect(cnt)\n",
        "    rectangles.append((x-2,y-2,w+2,h+2))\n",
        "    #image = cv2.rectangle(dst,(x-2,y-2),(x+w+2,y+h+2),(100,100,0),1)\n",
        "    plt.imshow(image[y-2:y+h+2,x-2:x+w+2],cmap='gray')\n",
        "    plt.show()\n",
        "    images.append(img)\n",
        "    \n",
        "  return images"
      ],
      "execution_count": 0,
      "outputs": []
    },
    {
      "metadata": {
        "id": "gzmuVf3eRboR",
        "colab_type": "code",
        "colab": {
          "autoexec": {
            "startup": false,
            "wait_interval": 0
          },
          "output_extras": [
            {
              "item_id": 1
            },
            {
              "item_id": 2
            },
            {
              "item_id": 3
            }
          ],
          "base_uri": "https://localhost:8080/",
          "height": 1009
        },
        "outputId": "0d34e94b-b5cd-4358-b36b-5add67fdf870",
        "executionInfo": {
          "status": "ok",
          "timestamp": 1521235727270,
          "user_tz": 240,
          "elapsed": 830,
          "user": {
            "displayName": "Daoud Piracha",
            "photoUrl": "https://lh3.googleusercontent.com/a/default-user=s128",
            "userId": "108185722932791441609"
          }
        }
      },
      "cell_type": "code",
      "source": [
        "def get_bounding_img(img,rect_coords):\n",
        "  \n",
        "  ''' \n",
        "     - img: image from dataset after using threshold \n",
        "     - rect_coords: list of rectangle coordinates returned from get bounding_box\n",
        "     - return: just the smaller img based on rect_coords\n",
        "  '''\n",
        "  \n",
        "  \n",
        "  return img\n",
        "\n",
        "get_bounding_box(train_x[0],thresh,maxValue)\n",
        "\n",
        "\n",
        "# # bounding rectange for first image\n",
        "# rectangles = get_bounding_box(train_x[0],thresh,maxValue)\n",
        "# print (rectangles[0][0])\n",
        "# print(dst)\n",
        "\n",
        "\n",
        "# # turn image to binary black and white\n",
        "# th, dst = cv2.threshold(train_x[0], thresh, maxValue, cv2.THRESH_BINARY);\n",
        "\n",
        "# # convert numpy array to unsigned 8 bit\n",
        "# dst = dst.astype(np.uint8)\n",
        "\n",
        "# # print image\n",
        "#plt.imshow(dst,cmap='gray')\n",
        "#plt.show()\n",
        "\n",
        "# # Find Contours and plot\n",
        "# image, contours, hier = cv2.findContours(dst, cv2.RETR_EXTERNAL,\n",
        "#                 cv2.CHAIN_APPROX_SIMPLE)\n",
        "\n",
        "\n",
        "# # first contour \n",
        "# cnt = contours[0]\n",
        "# x,y,w,h = cv2.boundingRect(cnt)\n",
        "\n",
        "\n",
        "# image = cv2.rectangle(dst,(x-2,y-2),(x+w+2,y+h+2),(100,100,0),1)\n",
        "# plt.imshow(image)\n",
        "\n",
        "# print(x,y,w,h)\n",
        "\n",
        "# cnt = contours[1]\n",
        "# x,y,w,h = cv2.boundingRect(cnt)\n",
        "# image = cv2.rectangle(dst,(x-2,y-2),(x+w+2,y+h+2),(100,100,0),1)\n",
        "# print(x,y,w,h)\n",
        "# plt.imshow(image,cmap='gray')\n",
        "# plt.show()\n",
        "\n"
      ],
      "execution_count": 11,
      "outputs": [
        {
          "output_type": "display_data",
          "data": {
            "image/png": "[encoded data removed]",
            "text/plain": [
              "<matplotlib.figure.Figure at 0x7ff5f4c90a90>"
            ]
          },
          "metadata": {
            "tags": []
          }
        },
        {
          "output_type": "display_data",
          "data": {
            "image/png": "[encoded data removed]",
            "text/plain": [
              "<matplotlib.figure.Figure at 0x7ff5f3ea7438>"
            ]
          },
          "metadata": {
            "tags": []
          }
        },
        {
          "output_type": "display_data",
          "data": {
            "image/png": "[encoded data removed]",
            "text/plain": [
              "<matplotlib.figure.Figure at 0x7ff5fb39e9e8>"
            ]
          },
          "metadata": {
            "tags": []
          }
        }
      ]
    },
    {
      "metadata": {
        "id": "junj_3naCSB3",
        "colab_type": "text"
      },
      "cell_type": "markdown",
      "source": [
        "# Baseline model training ( takes a long time to train )"
      ]
    },
    {
      "metadata": {
        "id": "ajLRS7Frxbs5",
        "colab_type": "code",
        "colab": {
          "autoexec": {
            "startup": false,
            "wait_interval": 0
          }
        }
      },
      "cell_type": "code",
      "source": [
        "def flatten_data(data):\n",
        "  print(data.shape[0])\n",
        "  new_data = np.zeros((data.shape[0],4096))\n",
        "  counter = 0\n",
        "  for img in data:\n",
        "    new_data[counter] = img.flatten()\n",
        "    counter+=1\n",
        "  return new_data"
      ],
      "execution_count": 0,
      "outputs": []
    },
    {
      "metadata": {
        "id": "RYm1mA0GvQmP",
        "colab_type": "code",
        "colab": {
          "autoexec": {
            "startup": false,
            "wait_interval": 0
          },
          "output_extras": [
            {
              "item_id": 2
            }
          ],
          "base_uri": "https://localhost:8080/",
          "height": 69
        },
        "outputId": "d165fb15-a47f-42ad-d958-c8ccd5603c6b",
        "executionInfo": {
          "status": "ok",
          "timestamp": 1521070282565,
          "user_tz": 240,
          "elapsed": 1620,
          "user": {
            "displayName": "Nadeem Ward",
            "photoUrl": "https://lh3.googleusercontent.com/a/default-user=s128",
            "userId": "102970361462901564389"
          }
        }
      },
      "cell_type": "code",
      "source": [
        "x_train, x_test, y_train, y_test = train_test_split(flatten_data(train_x), train_y, test_size=0.2, random_state=42)\n",
        "\n",
        "print (x_train.shape, y_train.shape)\n",
        "print (x_test.shape, y_test.shape)"
      ],
      "execution_count": 66,
      "outputs": [
        {
          "output_type": "stream",
          "text": [
            "50000\n",
            "(40000, 4096) (40000, 1)\n",
            "(10000, 4096) (10000, 1)\n"
          ],
          "name": "stdout"
        }
      ]
    },
    {
      "metadata": {
        "id": "V5hLtehpHIlm",
        "colab_type": "code",
        "colab": {
          "autoexec": {
            "startup": false,
            "wait_interval": 0
          }
        }
      },
      "cell_type": "code",
      "source": [
        "models = [LinearSVC(), LogisticRegression()]\n",
        "names = ['SVM', 'LogisticReg']\n",
        "\n",
        "for name, model in zip(names, models):\n",
        "\tmodel.fit(x_train, y_train)\n",
        "\tpreds = model.predict(x_test)\n",
        "\tacc = accuracy_score(y_test, preds)\n",
        "\tprint('Model{}gotaccuracy{}'.format(name, acc))"
      ],
      "execution_count": 0,
      "outputs": []
    }
  ]
}